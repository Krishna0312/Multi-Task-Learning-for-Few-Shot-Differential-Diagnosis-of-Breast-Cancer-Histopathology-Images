{
  "nbformat": 4,
  "nbformat_minor": 0,
  "metadata": {
    "colab": {
      "provenance": []
    },
    "kernelspec": {
      "name": "python3",
      "display_name": "Python 3"
    },
    "language_info": {
      "name": "python"
    },
    "accelerator": "GPU"
  },
  "cells": [
    {
      "cell_type": "markdown",
      "source": [
        "[Paper](https://pdfs.semanticscholar.org/1a19/f55bc7f5d3d90bd5cb239c0202b3428b6aa2.pdf)\n",
        "\n",
        "[Code](https://github.com/titu1994/DenseNet/blob/master/densenet_fast.py)"
      ],
      "metadata": {
        "id": "GIS85VjTfU6o"
      }
    },
    {
      "cell_type": "code",
      "execution_count": null,
      "metadata": {
        "id": "68GSozAYgTL0",
        "colab": {
          "base_uri": "https://localhost:8080/"
        },
        "outputId": "7733092a-2b6d-449c-d5f0-902e09bfaf9a"
      },
      "outputs": [
        {
          "output_type": "stream",
          "name": "stdout",
          "text": [
            "Mounted at /content/drive\n"
          ]
        }
      ],
      "source": [
        "from google.colab import drive\n",
        "drive.mount('/content/drive')"
      ]
    },
    {
      "cell_type": "code",
      "source": [
        "from __future__ import print_function\n",
        "from __future__ import division\n",
        "import torch\n",
        "import torch.nn as nn\n",
        "import torch.optim as optim\n",
        "import os\n",
        "import numpy as np\n",
        "import torchvision\n",
        "from torchvision import datasets, models, transforms\n",
        "import torch.utils.data as data\n",
        "from torch.utils.data import Subset, DataLoader, random_split\n",
        "from torchvision.datasets import ImageFolder\n",
        "from sklearn.model_selection import train_test_split\n",
        "from torchvision.transforms import Compose, ToTensor, Resize\n",
        "from torch.optim.lr_scheduler import ExponentialLR, StepLR, ReduceLROnPlateau\n",
        "from sklearn import metrics\n",
        "from torch.nn import functional as F\n",
        "import cv2\n",
        "import tensorflow as tf\n",
        "import keras\n",
        "from tensorflow.keras.applications.vgg19 import VGG19\n",
        "from tensorflow.keras.applications.mobilenet_v2 import MobileNetV2\n",
        "from tensorflow.keras.applications.densenet import DenseNet201\n",
        "\n",
        "from tensorflow.keras.utils import to_categorical\n",
        "import tensorflow as tf\n",
        "from keras import callbacks\n",
        "from keras import optimizers\n",
        "from keras.layers import Dropout, Flatten, Dense\n",
        "from tensorflow.keras.optimizers import Adam\n",
        "from keras.preprocessing.image import ImageDataGenerator\n",
        "\n",
        "import torch\n",
        "from torch.utils.data import DataLoader\n",
        "from torchvision import transforms\n",
        "from torchvision.datasets import ImageFolder\n",
        "\n",
        "from tensorflow import keras\n",
        "from tensorflow.keras import optimizers\n",
        "from tensorflow.keras.optimizers import schedules\n",
        "\n",
        "\n",
        "import matplotlib.pyplot as plt\n",
        "import time\n",
        "import os\n",
        "import copy\n",
        "import tensorflow as tf\n",
        "from keras.models import Model\n",
        "from keras.layers.core import Dense, Dropout, Activation\n",
        "from keras.layers.convolutional import Convolution2D\n",
        "from keras.layers.pooling import AveragePooling2D\n",
        "from keras.layers.pooling import GlobalAveragePooling2D\n",
        "from keras.layers import Input,\n",
        "from tensorflow.keras.layers import BatchNormalization\n",
        "from keras.regularizers import l2\n",
        "import keras.backend as K\n",
        "\n",
        "print(\"PyTorch Version: \",torch.__version__)\n",
        "print(\"Torchvision Version: \",torchvision.__version__)"
      ],
      "metadata": {
        "colab": {
          "base_uri": "https://localhost:8080/"
        },
        "id": "chKI3egcjkMn",
        "outputId": "ddbd9d60-1af3-45fc-84e2-67abd691e4d9"
      },
      "execution_count": null,
      "outputs": [
        {
          "output_type": "stream",
          "name": "stdout",
          "text": [
            "PyTorch Version:  1.10.0+cu111\n",
            "Torchvision Version:  0.11.1+cu111\n"
          ]
        }
      ]
    },
    {
      "cell_type": "code",
      "source": [
        "from keras.preprocessing.image import ImageDataGenerator\n",
        "train_datagen = ImageDataGenerator(\n",
        "        rescale = 1./255)\n",
        "       # rotation_range=40,\n",
        "       # height_shift_range=0.2,\n",
        "       # shear_range=0.2,\n",
        "       # zoom_range=0.2,\n",
        "       # horizontal_flip=True,\n",
        "       # fill_mode='nearest')\n",
        "valid_datagen = ImageDataGenerator(rescale=1./255)"
      ],
      "metadata": {
        "id": "tCKWEYcHlL5M"
      },
      "execution_count": null,
      "outputs": []
    },
    {
      "cell_type": "code",
      "source": [
        "train_generator = train_datagen.flow_from_directory(\n",
        "    directory=\"/content/drive/My Drive/BreaKHis2_8_trial/BreaKHis8_train/\",\n",
        "    target_size=(224, 224),\n",
        "    color_mode=\"rgb\",\n",
        "    batch_size=4,\n",
        "    class_mode=\"categorical\",\n",
        "    shuffle=True,\n",
        "    seed=42\n",
        ")\n",
        "valid_generator = valid_datagen.flow_from_directory(\n",
        "    directory=\"/content/drive/My Drive/BreaKHis2_8_trial/BreaKHis8_val/\",\n",
        "    target_size=(224, 224),\n",
        "    color_mode=\"rgb\",\n",
        "    batch_size=4,\n",
        "    class_mode=\"categorical\",\n",
        "    shuffle=True,\n",
        "    seed=42\n",
        ")"
      ],
      "metadata": {
        "colab": {
          "base_uri": "https://localhost:8080/"
        },
        "id": "1ZfV7CgIlL5-",
        "outputId": "0d4a87d8-f1e2-438a-8c84-5b5f2fa4c9c8"
      },
      "execution_count": null,
      "outputs": [
        {
          "output_type": "stream",
          "name": "stdout",
          "text": [
            "Found 480 images belonging to 8 classes.\n",
            "Found 40 images belonging to 8 classes.\n"
          ]
        }
      ]
    },
    {
      "cell_type": "code",
      "source": [
        "print(\"label map for train: \",train_generator.class_indices)\n",
        "print(\"\")\n",
        "print(\"----\")\n",
        "print(\"\")\n",
        "print(\"label map for val data: \",valid_generator.class_indices)"
      ],
      "metadata": {
        "colab": {
          "base_uri": "https://localhost:8080/"
        },
        "id": "kwmH6R_ElL--",
        "outputId": "f508db5b-3d0f-4fe7-8523-b529f2f867f8"
      },
      "execution_count": null,
      "outputs": [
        {
          "output_type": "stream",
          "name": "stdout",
          "text": [
            "label map for train:  {'benign_adenosis': 0, 'benign_fibroadenoma': 1, 'benign_phyllodestumor': 2, 'benign_tubularadenoma': 3, 'malignant_ductalcarcinoma': 4, 'malignant_lobularcarcinoma': 5, 'malignant_mucinouscarcinoma': 6, 'malignant_papillarycarcinoma': 7}\n",
            "\n",
            "----\n",
            "\n",
            "label map for val data:  {'benign_adenosis': 0, 'benign_fibroadenoma': 1, 'benign_phyllodestumor': 2, 'benign_tubularadenoma': 3, 'malignant_ductalcarcinoma': 4, 'malignant_lobularcarcinoma': 5, 'malignant_mucinouscarcinoma': 6, 'malignant_papillarycarcinoma': 7}\n"
          ]
        }
      ]
    },
    {
      "cell_type": "code",
      "source": [
        "print(\"Train classes: \",train_generator.classes)\n",
        "print(\"\")\n",
        "print(\"Valid classes: \",valid_generator.classes)"
      ],
      "metadata": {
        "colab": {
          "base_uri": "https://localhost:8080/"
        },
        "id": "93G9sJ_9lL_1",
        "outputId": "fc875fcd-98f2-4ac1-f837-2ec6c6c1ebd1"
      },
      "execution_count": null,
      "outputs": [
        {
          "output_type": "stream",
          "name": "stdout",
          "text": [
            "Train classes:  [0 0 0 0 0 0 0 0 0 0 0 0 0 0 0 0 0 0 0 0 0 0 0 0 0 0 0 0 0 0 0 0 0 0 0 0 0\n",
            " 0 0 0 0 0 0 0 0 0 0 0 0 0 0 0 0 0 0 0 0 0 0 0 1 1 1 1 1 1 1 1 1 1 1 1 1 1\n",
            " 1 1 1 1 1 1 1 1 1 1 1 1 1 1 1 1 1 1 1 1 1 1 1 1 1 1 1 1 1 1 1 1 1 1 1 1 1\n",
            " 1 1 1 1 1 1 1 1 1 2 2 2 2 2 2 2 2 2 2 2 2 2 2 2 2 2 2 2 2 2 2 2 2 2 2 2 2\n",
            " 2 2 2 2 2 2 2 2 2 2 2 2 2 2 2 2 2 2 2 2 2 2 2 2 2 2 2 2 2 2 2 2 3 3 3 3 3\n",
            " 3 3 3 3 3 3 3 3 3 3 3 3 3 3 3 3 3 3 3 3 3 3 3 3 3 3 3 3 3 3 3 3 3 3 3 3 3\n",
            " 3 3 3 3 3 3 3 3 3 3 3 3 3 3 3 3 3 3 4 4 4 4 4 4 4 4 4 4 4 4 4 4 4 4 4 4 4\n",
            " 4 4 4 4 4 4 4 4 4 4 4 4 4 4 4 4 4 4 4 4 4 4 4 4 4 4 4 4 4 4 4 4 4 4 4 4 4\n",
            " 4 4 4 4 5 5 5 5 5 5 5 5 5 5 5 5 5 5 5 5 5 5 5 5 5 5 5 5 5 5 5 5 5 5 5 5 5\n",
            " 5 5 5 5 5 5 5 5 5 5 5 5 5 5 5 5 5 5 5 5 5 5 5 5 5 5 5 6 6 6 6 6 6 6 6 6 6\n",
            " 6 6 6 6 6 6 6 6 6 6 6 6 6 6 6 6 6 6 6 6 6 6 6 6 6 6 6 6 6 6 6 6 6 6 6 6 6\n",
            " 6 6 6 6 6 6 6 6 6 6 6 6 6 7 7 7 7 7 7 7 7 7 7 7 7 7 7 7 7 7 7 7 7 7 7 7 7\n",
            " 7 7 7 7 7 7 7 7 7 7 7 7 7 7 7 7 7 7 7 7 7 7 7 7 7 7 7 7 7 7 7 7 7 7 7 7]\n",
            "\n",
            "Valid classes:  [0 0 0 0 0 1 1 1 1 1 2 2 2 2 2 3 3 3 3 3 4 4 4 4 4 5 5 5 5 5 6 6 6 6 6 7 7\n",
            " 7 7 7]\n"
          ]
        }
      ]
    },
    {
      "cell_type": "code",
      "source": [
        "\n",
        "def H(  inputs, num_filters , dropout_rate):\n",
        "    x = tf.keras.layers.BatchNormalization( epsilon=eps )( inputs )\n",
        "    x = tf.keras.layers.Activation('relu')(x)\n",
        "    x = tf.keras.layers.ZeroPadding2D((1, 1))(x)\n",
        "    x = tf.keras.layers.Conv2D(num_filters, kernel_size=(3,3), use_bias=False , kernel_initializer='he_normal' )(x)\n",
        "    x = tf.keras.layers.Dropout(rate=dropout_rate )(x)\n",
        "    return x\n"
      ],
      "metadata": {
        "id": "GZI2MkCMxRj2"
      },
      "execution_count": null,
      "outputs": []
    },
    {
      "cell_type": "code",
      "source": [
        "\n",
        "def transition(inputs, num_filters , compression_factor , dropout_rate ):\n",
        "    # compression_factor is the 'θ'\n",
        "    x = tf.keras.layers.BatchNormalization( epsilon=eps )(inputs)\n",
        "    x = tf.keras.layers.Activation('relu')(x)\n",
        "    num_feature_maps = inputs.shape[1] # The value of 'm'\n",
        "\n",
        "    x = tf.keras.layers.Conv2D( np.floor( compression_factor * num_feature_maps ).astype( np.int ) ,\n",
        "                               kernel_size=(1, 1), use_bias=False, padding='same' , kernel_initializer='he_normal' , kernel_regularizer=tf.keras.regularizers.l2( 1e-4 ) )(x)\n",
        "    x = tf.keras.layers.Dropout(rate=dropout_rate)(x)\n",
        "\n",
        "    x = tf.keras.layers.AveragePooling2D(pool_size=(2, 2))(x)\n",
        "    return x"
      ],
      "metadata": {
        "id": "hEskNkT2xRk3"
      },
      "execution_count": null,
      "outputs": []
    },
    {
      "cell_type": "code",
      "source": [
        "\n",
        "def dense_block( inputs, num_layers, num_filters, growth_rate , dropout_rate ):\n",
        "    for i in range(num_layers):\n",
        "      conv_outputs = H(inputs, num_filters , dropout_rate)\n",
        "\n",
        "      inputs = tf.keras.layers.Concatenate()([conv_outputs, inputs])\n",
        "      num_filters += growth_rate # To increase the number of filters for each layer.\n",
        "    return inputs, num_filters\n"
      ],
      "metadata": {
        "id": "BR4XYADoxYZf"
      },
      "execution_count": null,
      "outputs": []
    },
    {
      "cell_type": "code",
      "source": [
        "# kernel_size1=(7,7)\n",
        "# kernel_size2=(3,3)\n",
        "input_shape = ( 224 , 224 , 3 )\n",
        "num_blocks = 4\n",
        "num_layers_per_block = 4\n",
        "growth_rate = 16\n",
        "dropout_rate = 0.1\n",
        "compress_factor = 0.5\n",
        "eps = 1.1e-5\n",
        "\n",
        "num_filters = 16\n",
        "\n",
        "inputs = tf.keras.layers.Input( shape=input_shape )\n",
        "x = tf.keras.layers.Conv2D( num_filters , kernel_size=( 3 , 3 ) , use_bias=False, kernel_initializer='he_normal' , kernel_regularizer=tf.keras.regularizers.l2( 1e-4 ) )( inputs )\n",
        "\n",
        "for i in range( num_blocks ):\n",
        "    x, num_filters = dense_block( x, num_layers_per_block , num_filters, growth_rate , dropout_rate )\n",
        "    x = transition(x, num_filters , compress_factor , dropout_rate )\n",
        "\n",
        "x = tf.keras.layers.GlobalAveragePooling2D()( x )\n",
        "x = tf.keras.layers.Dense( 8 )( x ) # Num Classes for CIFAR-10\n",
        "outputs = tf.keras.layers.Activation( 'softmax' )( x )\n",
        "base_model = tf.keras.models.Model( inputs , outputs )\n"
      ],
      "metadata": {
        "colab": {
          "base_uri": "https://localhost:8080/"
        },
        "id": "VYqOIdP7xRp0",
        "outputId": "cddebd4c-5483-4deb-ba56-86a75d877775"
      },
      "execution_count": null,
      "outputs": [
        {
          "output_type": "stream",
          "name": "stderr",
          "text": [
            "/usr/local/lib/python3.7/dist-packages/ipykernel_launcher.py:8: DeprecationWarning: `np.int` is a deprecated alias for the builtin `int`. To silence this warning, use `int` by itself. Doing this will not modify any behavior and is safe. When replacing `np.int`, you may wish to use e.g. `np.int64` or `np.int32` to specify the precision. If you wish to review your current use, check the release note link for additional information.\n",
            "Deprecated in NumPy 1.20; for more details and guidance: https://numpy.org/devdocs/release/1.20.0-notes.html#deprecations\n",
            "  \n"
          ]
        }
      ]
    },
    {
      "cell_type": "code",
      "source": [
        "for layer in base_model.layers:\n",
        "    layer.trainable = False  #True"
      ],
      "metadata": {
        "id": "2rgtquehfKJw"
      },
      "execution_count": null,
      "outputs": []
    },
    {
      "cell_type": "code",
      "source": [
        "base_model.summary()"
      ],
      "metadata": {
        "colab": {
          "base_uri": "https://localhost:8080/"
        },
        "id": "sxhmvQqgfKLs",
        "outputId": "e5bb4515-dc25-4a6f-8044-448a9ef2cae1"
      },
      "execution_count": null,
      "outputs": [
        {
          "output_type": "stream",
          "name": "stdout",
          "text": [
            "Model: \"model_1\"\n",
            "__________________________________________________________________________________________________\n",
            " Layer (type)                   Output Shape         Param #     Connected to                     \n",
            "==================================================================================================\n",
            " input_24 (InputLayer)          [(None, 224, 224, 3  0           []                               \n",
            "                                )]                                                                \n",
            "                                                                                                  \n",
            " conv2d_36 (Conv2D)             (None, 222, 222, 16  432         ['input_24[0][0]']               \n",
            "                                )                                                                 \n",
            "                                                                                                  \n",
            " batch_normalization_31 (BatchN  (None, 222, 222, 16  64         ['conv2d_36[0][0]']              \n",
            " ormalization)                  )                                                                 \n",
            "                                                                                                  \n",
            " activation_32 (Activation)     (None, 222, 222, 16  0           ['batch_normalization_31[0][0]'] \n",
            "                                )                                                                 \n",
            "                                                                                                  \n",
            " zero_padding2d_20 (ZeroPadding  (None, 224, 224, 16  0          ['activation_32[0][0]']          \n",
            " 2D)                            )                                                                 \n",
            "                                                                                                  \n",
            " conv2d_37 (Conv2D)             (None, 222, 222, 16  2304        ['zero_padding2d_20[0][0]']      \n",
            "                                )                                                                 \n",
            "                                                                                                  \n",
            " dropout_23 (Dropout)           (None, 222, 222, 16  0           ['conv2d_37[0][0]']              \n",
            "                                )                                                                 \n",
            "                                                                                                  \n",
            " concatenate_20 (Concatenate)   (None, 222, 222, 32  0           ['dropout_23[0][0]',             \n",
            "                                )                                 'conv2d_36[0][0]']              \n",
            "                                                                                                  \n",
            " batch_normalization_32 (BatchN  (None, 222, 222, 32  128        ['concatenate_20[0][0]']         \n",
            " ormalization)                  )                                                                 \n",
            "                                                                                                  \n",
            " activation_33 (Activation)     (None, 222, 222, 32  0           ['batch_normalization_32[0][0]'] \n",
            "                                )                                                                 \n",
            "                                                                                                  \n",
            " zero_padding2d_21 (ZeroPadding  (None, 224, 224, 32  0          ['activation_33[0][0]']          \n",
            " 2D)                            )                                                                 \n",
            "                                                                                                  \n",
            " conv2d_38 (Conv2D)             (None, 222, 222, 32  9216        ['zero_padding2d_21[0][0]']      \n",
            "                                )                                                                 \n",
            "                                                                                                  \n",
            " dropout_24 (Dropout)           (None, 222, 222, 32  0           ['conv2d_38[0][0]']              \n",
            "                                )                                                                 \n",
            "                                                                                                  \n",
            " concatenate_21 (Concatenate)   (None, 222, 222, 64  0           ['dropout_24[0][0]',             \n",
            "                                )                                 'concatenate_20[0][0]']         \n",
            "                                                                                                  \n",
            " batch_normalization_33 (BatchN  (None, 222, 222, 64  256        ['concatenate_21[0][0]']         \n",
            " ormalization)                  )                                                                 \n",
            "                                                                                                  \n",
            " activation_34 (Activation)     (None, 222, 222, 64  0           ['batch_normalization_33[0][0]'] \n",
            "                                )                                                                 \n",
            "                                                                                                  \n",
            " zero_padding2d_22 (ZeroPadding  (None, 224, 224, 64  0          ['activation_34[0][0]']          \n",
            " 2D)                            )                                                                 \n",
            "                                                                                                  \n",
            " conv2d_39 (Conv2D)             (None, 222, 222, 48  27648       ['zero_padding2d_22[0][0]']      \n",
            "                                )                                                                 \n",
            "                                                                                                  \n",
            " dropout_25 (Dropout)           (None, 222, 222, 48  0           ['conv2d_39[0][0]']              \n",
            "                                )                                                                 \n",
            "                                                                                                  \n",
            " concatenate_22 (Concatenate)   (None, 222, 222, 11  0           ['dropout_25[0][0]',             \n",
            "                                2)                                'concatenate_21[0][0]']         \n",
            "                                                                                                  \n",
            " batch_normalization_34 (BatchN  (None, 222, 222, 11  448        ['concatenate_22[0][0]']         \n",
            " ormalization)                  2)                                                                \n",
            "                                                                                                  \n",
            " activation_35 (Activation)     (None, 222, 222, 11  0           ['batch_normalization_34[0][0]'] \n",
            "                                2)                                                                \n",
            "                                                                                                  \n",
            " zero_padding2d_23 (ZeroPadding  (None, 224, 224, 11  0          ['activation_35[0][0]']          \n",
            " 2D)                            2)                                                                \n",
            "                                                                                                  \n",
            " conv2d_40 (Conv2D)             (None, 222, 222, 64  64512       ['zero_padding2d_23[0][0]']      \n",
            "                                )                                                                 \n",
            "                                                                                                  \n",
            " dropout_26 (Dropout)           (None, 222, 222, 64  0           ['conv2d_40[0][0]']              \n",
            "                                )                                                                 \n",
            "                                                                                                  \n",
            " concatenate_23 (Concatenate)   (None, 222, 222, 17  0           ['dropout_26[0][0]',             \n",
            "                                6)                                'concatenate_22[0][0]']         \n",
            "                                                                                                  \n",
            " batch_normalization_35 (BatchN  (None, 222, 222, 17  704        ['concatenate_23[0][0]']         \n",
            " ormalization)                  6)                                                                \n",
            "                                                                                                  \n",
            " activation_36 (Activation)     (None, 222, 222, 17  0           ['batch_normalization_35[0][0]'] \n",
            "                                6)                                                                \n",
            "                                                                                                  \n",
            " conv2d_41 (Conv2D)             (None, 222, 222, 11  19536       ['activation_36[0][0]']          \n",
            "                                1)                                                                \n",
            "                                                                                                  \n",
            " dropout_27 (Dropout)           (None, 222, 222, 11  0           ['conv2d_41[0][0]']              \n",
            "                                1)                                                                \n",
            "                                                                                                  \n",
            " average_pooling2d_4 (AveragePo  (None, 111, 111, 11  0          ['dropout_27[0][0]']             \n",
            " oling2D)                       1)                                                                \n",
            "                                                                                                  \n",
            " batch_normalization_36 (BatchN  (None, 111, 111, 11  444        ['average_pooling2d_4[0][0]']    \n",
            " ormalization)                  1)                                                                \n",
            "                                                                                                  \n",
            " activation_37 (Activation)     (None, 111, 111, 11  0           ['batch_normalization_36[0][0]'] \n",
            "                                1)                                                                \n",
            "                                                                                                  \n",
            " zero_padding2d_24 (ZeroPadding  (None, 113, 113, 11  0          ['activation_37[0][0]']          \n",
            " 2D)                            1)                                                                \n",
            "                                                                                                  \n",
            " conv2d_42 (Conv2D)             (None, 111, 111, 80  79920       ['zero_padding2d_24[0][0]']      \n",
            "                                )                                                                 \n",
            "                                                                                                  \n",
            " dropout_28 (Dropout)           (None, 111, 111, 80  0           ['conv2d_42[0][0]']              \n",
            "                                )                                                                 \n",
            "                                                                                                  \n",
            " concatenate_24 (Concatenate)   (None, 111, 111, 19  0           ['dropout_28[0][0]',             \n",
            "                                1)                                'average_pooling2d_4[0][0]']    \n",
            "                                                                                                  \n",
            " batch_normalization_37 (BatchN  (None, 111, 111, 19  764        ['concatenate_24[0][0]']         \n",
            " ormalization)                  1)                                                                \n",
            "                                                                                                  \n",
            " activation_38 (Activation)     (None, 111, 111, 19  0           ['batch_normalization_37[0][0]'] \n",
            "                                1)                                                                \n",
            "                                                                                                  \n",
            " zero_padding2d_25 (ZeroPadding  (None, 113, 113, 19  0          ['activation_38[0][0]']          \n",
            " 2D)                            1)                                                                \n",
            "                                                                                                  \n",
            " conv2d_43 (Conv2D)             (None, 111, 111, 96  165024      ['zero_padding2d_25[0][0]']      \n",
            "                                )                                                                 \n",
            "                                                                                                  \n",
            " dropout_29 (Dropout)           (None, 111, 111, 96  0           ['conv2d_43[0][0]']              \n",
            "                                )                                                                 \n",
            "                                                                                                  \n",
            " concatenate_25 (Concatenate)   (None, 111, 111, 28  0           ['dropout_29[0][0]',             \n",
            "                                7)                                'concatenate_24[0][0]']         \n",
            "                                                                                                  \n",
            " batch_normalization_38 (BatchN  (None, 111, 111, 28  1148       ['concatenate_25[0][0]']         \n",
            " ormalization)                  7)                                                                \n",
            "                                                                                                  \n",
            " activation_39 (Activation)     (None, 111, 111, 28  0           ['batch_normalization_38[0][0]'] \n",
            "                                7)                                                                \n",
            "                                                                                                  \n",
            " zero_padding2d_26 (ZeroPadding  (None, 113, 113, 28  0          ['activation_39[0][0]']          \n",
            " 2D)                            7)                                                                \n",
            "                                                                                                  \n",
            " conv2d_44 (Conv2D)             (None, 111, 111, 11  289296      ['zero_padding2d_26[0][0]']      \n",
            "                                2)                                                                \n",
            "                                                                                                  \n",
            " dropout_30 (Dropout)           (None, 111, 111, 11  0           ['conv2d_44[0][0]']              \n",
            "                                2)                                                                \n",
            "                                                                                                  \n",
            " concatenate_26 (Concatenate)   (None, 111, 111, 39  0           ['dropout_30[0][0]',             \n",
            "                                9)                                'concatenate_25[0][0]']         \n",
            "                                                                                                  \n",
            " batch_normalization_39 (BatchN  (None, 111, 111, 39  1596       ['concatenate_26[0][0]']         \n",
            " ormalization)                  9)                                                                \n",
            "                                                                                                  \n",
            " activation_40 (Activation)     (None, 111, 111, 39  0           ['batch_normalization_39[0][0]'] \n",
            "                                9)                                                                \n",
            "                                                                                                  \n",
            " zero_padding2d_27 (ZeroPadding  (None, 113, 113, 39  0          ['activation_40[0][0]']          \n",
            " 2D)                            9)                                                                \n",
            "                                                                                                  \n",
            " conv2d_45 (Conv2D)             (None, 111, 111, 12  459648      ['zero_padding2d_27[0][0]']      \n",
            "                                8)                                                                \n",
            "                                                                                                  \n",
            " dropout_31 (Dropout)           (None, 111, 111, 12  0           ['conv2d_45[0][0]']              \n",
            "                                8)                                                                \n",
            "                                                                                                  \n",
            " concatenate_27 (Concatenate)   (None, 111, 111, 52  0           ['dropout_31[0][0]',             \n",
            "                                7)                                'concatenate_26[0][0]']         \n",
            "                                                                                                  \n",
            " batch_normalization_40 (BatchN  (None, 111, 111, 52  2108       ['concatenate_27[0][0]']         \n",
            " ormalization)                  7)                                                                \n",
            "                                                                                                  \n",
            " activation_41 (Activation)     (None, 111, 111, 52  0           ['batch_normalization_40[0][0]'] \n",
            "                                7)                                                                \n",
            "                                                                                                  \n",
            " conv2d_46 (Conv2D)             (None, 111, 111, 55  28985       ['activation_41[0][0]']          \n",
            "                                )                                                                 \n",
            "                                                                                                  \n",
            " dropout_32 (Dropout)           (None, 111, 111, 55  0           ['conv2d_46[0][0]']              \n",
            "                                )                                                                 \n",
            "                                                                                                  \n",
            " average_pooling2d_5 (AveragePo  (None, 55, 55, 55)  0           ['dropout_32[0][0]']             \n",
            " oling2D)                                                                                         \n",
            "                                                                                                  \n",
            " batch_normalization_41 (BatchN  (None, 55, 55, 55)  220         ['average_pooling2d_5[0][0]']    \n",
            " ormalization)                                                                                    \n",
            "                                                                                                  \n",
            " activation_42 (Activation)     (None, 55, 55, 55)   0           ['batch_normalization_41[0][0]'] \n",
            "                                                                                                  \n",
            " zero_padding2d_28 (ZeroPadding  (None, 57, 57, 55)  0           ['activation_42[0][0]']          \n",
            " 2D)                                                                                              \n",
            "                                                                                                  \n",
            " conv2d_47 (Conv2D)             (None, 55, 55, 144)  71280       ['zero_padding2d_28[0][0]']      \n",
            "                                                                                                  \n",
            " dropout_33 (Dropout)           (None, 55, 55, 144)  0           ['conv2d_47[0][0]']              \n",
            "                                                                                                  \n",
            " concatenate_28 (Concatenate)   (None, 55, 55, 199)  0           ['dropout_33[0][0]',             \n",
            "                                                                  'average_pooling2d_5[0][0]']    \n",
            "                                                                                                  \n",
            " batch_normalization_42 (BatchN  (None, 55, 55, 199)  796        ['concatenate_28[0][0]']         \n",
            " ormalization)                                                                                    \n",
            "                                                                                                  \n",
            " activation_43 (Activation)     (None, 55, 55, 199)  0           ['batch_normalization_42[0][0]'] \n",
            "                                                                                                  \n",
            " zero_padding2d_29 (ZeroPadding  (None, 57, 57, 199)  0          ['activation_43[0][0]']          \n",
            " 2D)                                                                                              \n",
            "                                                                                                  \n",
            " conv2d_48 (Conv2D)             (None, 55, 55, 160)  286560      ['zero_padding2d_29[0][0]']      \n",
            "                                                                                                  \n",
            " dropout_34 (Dropout)           (None, 55, 55, 160)  0           ['conv2d_48[0][0]']              \n",
            "                                                                                                  \n",
            " concatenate_29 (Concatenate)   (None, 55, 55, 359)  0           ['dropout_34[0][0]',             \n",
            "                                                                  'concatenate_28[0][0]']         \n",
            "                                                                                                  \n",
            " batch_normalization_43 (BatchN  (None, 55, 55, 359)  1436       ['concatenate_29[0][0]']         \n",
            " ormalization)                                                                                    \n",
            "                                                                                                  \n",
            " activation_44 (Activation)     (None, 55, 55, 359)  0           ['batch_normalization_43[0][0]'] \n",
            "                                                                                                  \n",
            " zero_padding2d_30 (ZeroPadding  (None, 57, 57, 359)  0          ['activation_44[0][0]']          \n",
            " 2D)                                                                                              \n",
            "                                                                                                  \n",
            " conv2d_49 (Conv2D)             (None, 55, 55, 176)  568656      ['zero_padding2d_30[0][0]']      \n",
            "                                                                                                  \n",
            " dropout_35 (Dropout)           (None, 55, 55, 176)  0           ['conv2d_49[0][0]']              \n",
            "                                                                                                  \n",
            " concatenate_30 (Concatenate)   (None, 55, 55, 535)  0           ['dropout_35[0][0]',             \n",
            "                                                                  'concatenate_29[0][0]']         \n",
            "                                                                                                  \n",
            " batch_normalization_44 (BatchN  (None, 55, 55, 535)  2140       ['concatenate_30[0][0]']         \n",
            " ormalization)                                                                                    \n",
            "                                                                                                  \n",
            " activation_45 (Activation)     (None, 55, 55, 535)  0           ['batch_normalization_44[0][0]'] \n",
            "                                                                                                  \n",
            " zero_padding2d_31 (ZeroPadding  (None, 57, 57, 535)  0          ['activation_45[0][0]']          \n",
            " 2D)                                                                                              \n",
            "                                                                                                  \n",
            " conv2d_50 (Conv2D)             (None, 55, 55, 192)  924480      ['zero_padding2d_31[0][0]']      \n",
            "                                                                                                  \n",
            " dropout_36 (Dropout)           (None, 55, 55, 192)  0           ['conv2d_50[0][0]']              \n",
            "                                                                                                  \n",
            " concatenate_31 (Concatenate)   (None, 55, 55, 727)  0           ['dropout_36[0][0]',             \n",
            "                                                                  'concatenate_30[0][0]']         \n",
            "                                                                                                  \n",
            " batch_normalization_45 (BatchN  (None, 55, 55, 727)  2908       ['concatenate_31[0][0]']         \n",
            " ormalization)                                                                                    \n",
            "                                                                                                  \n",
            " activation_46 (Activation)     (None, 55, 55, 727)  0           ['batch_normalization_45[0][0]'] \n",
            "                                                                                                  \n",
            " conv2d_51 (Conv2D)             (None, 55, 55, 27)   19629       ['activation_46[0][0]']          \n",
            "                                                                                                  \n",
            " dropout_37 (Dropout)           (None, 55, 55, 27)   0           ['conv2d_51[0][0]']              \n",
            "                                                                                                  \n",
            " average_pooling2d_6 (AveragePo  (None, 27, 27, 27)  0           ['dropout_37[0][0]']             \n",
            " oling2D)                                                                                         \n",
            "                                                                                                  \n",
            " batch_normalization_46 (BatchN  (None, 27, 27, 27)  108         ['average_pooling2d_6[0][0]']    \n",
            " ormalization)                                                                                    \n",
            "                                                                                                  \n",
            " activation_47 (Activation)     (None, 27, 27, 27)   0           ['batch_normalization_46[0][0]'] \n",
            "                                                                                                  \n",
            " zero_padding2d_32 (ZeroPadding  (None, 29, 29, 27)  0           ['activation_47[0][0]']          \n",
            " 2D)                                                                                              \n",
            "                                                                                                  \n",
            " conv2d_52 (Conv2D)             (None, 27, 27, 208)  50544       ['zero_padding2d_32[0][0]']      \n",
            "                                                                                                  \n",
            " dropout_38 (Dropout)           (None, 27, 27, 208)  0           ['conv2d_52[0][0]']              \n",
            "                                                                                                  \n",
            " concatenate_32 (Concatenate)   (None, 27, 27, 235)  0           ['dropout_38[0][0]',             \n",
            "                                                                  'average_pooling2d_6[0][0]']    \n",
            "                                                                                                  \n",
            " batch_normalization_47 (BatchN  (None, 27, 27, 235)  940        ['concatenate_32[0][0]']         \n",
            " ormalization)                                                                                    \n",
            "                                                                                                  \n",
            " activation_48 (Activation)     (None, 27, 27, 235)  0           ['batch_normalization_47[0][0]'] \n",
            "                                                                                                  \n",
            " zero_padding2d_33 (ZeroPadding  (None, 29, 29, 235)  0          ['activation_48[0][0]']          \n",
            " 2D)                                                                                              \n",
            "                                                                                                  \n",
            " conv2d_53 (Conv2D)             (None, 27, 27, 224)  473760      ['zero_padding2d_33[0][0]']      \n",
            "                                                                                                  \n",
            " dropout_39 (Dropout)           (None, 27, 27, 224)  0           ['conv2d_53[0][0]']              \n",
            "                                                                                                  \n",
            " concatenate_33 (Concatenate)   (None, 27, 27, 459)  0           ['dropout_39[0][0]',             \n",
            "                                                                  'concatenate_32[0][0]']         \n",
            "                                                                                                  \n",
            " batch_normalization_48 (BatchN  (None, 27, 27, 459)  1836       ['concatenate_33[0][0]']         \n",
            " ormalization)                                                                                    \n",
            "                                                                                                  \n",
            " activation_49 (Activation)     (None, 27, 27, 459)  0           ['batch_normalization_48[0][0]'] \n",
            "                                                                                                  \n",
            " zero_padding2d_34 (ZeroPadding  (None, 29, 29, 459)  0          ['activation_49[0][0]']          \n",
            " 2D)                                                                                              \n",
            "                                                                                                  \n",
            " conv2d_54 (Conv2D)             (None, 27, 27, 240)  991440      ['zero_padding2d_34[0][0]']      \n",
            "                                                                                                  \n",
            " dropout_40 (Dropout)           (None, 27, 27, 240)  0           ['conv2d_54[0][0]']              \n",
            "                                                                                                  \n",
            " concatenate_34 (Concatenate)   (None, 27, 27, 699)  0           ['dropout_40[0][0]',             \n",
            "                                                                  'concatenate_33[0][0]']         \n",
            "                                                                                                  \n",
            " batch_normalization_49 (BatchN  (None, 27, 27, 699)  2796       ['concatenate_34[0][0]']         \n",
            " ormalization)                                                                                    \n",
            "                                                                                                  \n",
            " activation_50 (Activation)     (None, 27, 27, 699)  0           ['batch_normalization_49[0][0]'] \n",
            "                                                                                                  \n",
            " zero_padding2d_35 (ZeroPadding  (None, 29, 29, 699)  0          ['activation_50[0][0]']          \n",
            " 2D)                                                                                              \n",
            "                                                                                                  \n",
            " conv2d_55 (Conv2D)             (None, 27, 27, 256)  1610496     ['zero_padding2d_35[0][0]']      \n",
            "                                                                                                  \n",
            " dropout_41 (Dropout)           (None, 27, 27, 256)  0           ['conv2d_55[0][0]']              \n",
            "                                                                                                  \n",
            " concatenate_35 (Concatenate)   (None, 27, 27, 955)  0           ['dropout_41[0][0]',             \n",
            "                                                                  'concatenate_34[0][0]']         \n",
            "                                                                                                  \n",
            " batch_normalization_50 (BatchN  (None, 27, 27, 955)  3820       ['concatenate_35[0][0]']         \n",
            " ormalization)                                                                                    \n",
            "                                                                                                  \n",
            " activation_51 (Activation)     (None, 27, 27, 955)  0           ['batch_normalization_50[0][0]'] \n",
            "                                                                                                  \n",
            " conv2d_56 (Conv2D)             (None, 27, 27, 13)   12415       ['activation_51[0][0]']          \n",
            "                                                                                                  \n",
            " dropout_42 (Dropout)           (None, 27, 27, 13)   0           ['conv2d_56[0][0]']              \n",
            "                                                                                                  \n",
            " average_pooling2d_7 (AveragePo  (None, 13, 13, 13)  0           ['dropout_42[0][0]']             \n",
            " oling2D)                                                                                         \n",
            "                                                                                                  \n",
            " global_average_pooling2d_1 (Gl  (None, 13)          0           ['average_pooling2d_7[0][0]']    \n",
            " obalAveragePooling2D)                                                                            \n",
            "                                                                                                  \n",
            " dense_1 (Dense)                (None, 8)            112         ['global_average_pooling2d_1[0][0\n",
            "                                                                 ]']                              \n",
            "                                                                                                  \n",
            " activation_52 (Activation)     (None, 8)            0           ['dense_1[0][0]']                \n",
            "                                                                                                  \n",
            "==================================================================================================\n",
            "Total params: 6,180,553\n",
            "Trainable params: 0\n",
            "Non-trainable params: 6,180,553\n",
            "__________________________________________________________________________________________________\n"
          ]
        }
      ]
    },
    {
      "cell_type": "code",
      "source": [
        "from tensorflow import keras\n",
        "from tensorflow.keras import optimizers\n",
        "from tensorflow.keras.optimizers import schedules\n",
        "\n",
        "epochs = 100\n",
        "batch_size = 32\n",
        "# lr_schedule = keras.optimizers.schedules.ExponentialDecay(\n",
        "#     decay_steps =240, decay_rate = 0.7,\n",
        "#     ial_learning_rate=0.0002)\n",
        "\n",
        "\n",
        "#opt = keras.optimizers.SGD(learning_rate = 0.001, momentum = 1)\n",
        "opt = keras.optimizers.Adam(learning_rate = 0.001)\n",
        "#opt = tf.keras.optimizers.RMSprop(learning_rate=0.001, rho=0.9, momentum=0.9, epsilon=1e-07)\n",
        "\n",
        "base_model.compile(optimizer=opt ,  #rmsprop #sgd\n",
        "              loss='categorical_crossentropy',  metrics=['accuracy'])\n",
        "\n",
        "history = base_model.fit(train_generator, shuffle = True,\n",
        "          epochs=epochs, verbose=1,  validation_data = valid_generator)  #steps_per_epoch= 200, validation_steps= 200"
      ],
      "metadata": {
        "colab": {
          "base_uri": "https://localhost:8080/"
        },
        "id": "p0h4lui4fKNd",
        "outputId": "bb86f446-a0b6-4ab6-c38c-ecd809a9b772"
      },
      "execution_count": null,
      "outputs": [
        {
          "output_type": "stream",
          "name": "stdout",
          "text": [
            "Epoch 1/100\n",
            "120/120 [==============================] - 32s 242ms/step - loss: 2.2289 - accuracy: 0.1250 - val_loss: 2.2759 - val_accuracy: 0.1250\n",
            "Epoch 2/100\n",
            "120/120 [==============================] - 29s 238ms/step - loss: 2.2284 - accuracy: 0.1250 - val_loss: 2.2759 - val_accuracy: 0.1250\n",
            "Epoch 3/100\n",
            "120/120 [==============================] - 29s 239ms/step - loss: 2.2298 - accuracy: 0.1250 - val_loss: 2.2759 - val_accuracy: 0.1250\n",
            "Epoch 4/100\n",
            "120/120 [==============================] - 29s 239ms/step - loss: 2.2287 - accuracy: 0.1250 - val_loss: 2.2759 - val_accuracy: 0.1250\n",
            "Epoch 5/100\n",
            "120/120 [==============================] - 29s 240ms/step - loss: 2.2278 - accuracy: 0.1250 - val_loss: 2.2759 - val_accuracy: 0.1250\n",
            "Epoch 6/100\n",
            "120/120 [==============================] - 29s 238ms/step - loss: 2.2271 - accuracy: 0.1250 - val_loss: 2.2759 - val_accuracy: 0.1250\n",
            "Epoch 7/100\n",
            "120/120 [==============================] - 29s 239ms/step - loss: 2.2282 - accuracy: 0.1250 - val_loss: 2.2759 - val_accuracy: 0.1250\n",
            "Epoch 8/100\n",
            "120/120 [==============================] - 29s 239ms/step - loss: 2.2279 - accuracy: 0.1250 - val_loss: 2.2759 - val_accuracy: 0.1250\n",
            "Epoch 9/100\n",
            "120/120 [==============================] - 29s 239ms/step - loss: 2.2282 - accuracy: 0.1250 - val_loss: 2.2759 - val_accuracy: 0.1250\n",
            "Epoch 10/100\n",
            "120/120 [==============================] - 29s 238ms/step - loss: 2.2282 - accuracy: 0.1250 - val_loss: 2.2759 - val_accuracy: 0.1250\n",
            "Epoch 11/100\n",
            "120/120 [==============================] - 29s 239ms/step - loss: 2.2272 - accuracy: 0.1250 - val_loss: 2.2759 - val_accuracy: 0.1250\n",
            "Epoch 12/100\n",
            "120/120 [==============================] - 29s 239ms/step - loss: 2.2271 - accuracy: 0.1250 - val_loss: 2.2759 - val_accuracy: 0.1250\n",
            "Epoch 13/100\n",
            "120/120 [==============================] - 29s 240ms/step - loss: 2.2285 - accuracy: 0.1250 - val_loss: 2.2759 - val_accuracy: 0.1250\n",
            "Epoch 14/100\n",
            "120/120 [==============================] - 29s 238ms/step - loss: 2.2280 - accuracy: 0.1250 - val_loss: 2.2759 - val_accuracy: 0.1250\n",
            "Epoch 15/100\n",
            "120/120 [==============================] - 29s 239ms/step - loss: 2.2278 - accuracy: 0.1250 - val_loss: 2.2759 - val_accuracy: 0.1250\n",
            "Epoch 16/100\n",
            "120/120 [==============================] - 29s 239ms/step - loss: 2.2278 - accuracy: 0.1250 - val_loss: 2.2759 - val_accuracy: 0.1250\n",
            "Epoch 17/100\n",
            "120/120 [==============================] - 29s 238ms/step - loss: 2.2285 - accuracy: 0.1250 - val_loss: 2.2759 - val_accuracy: 0.1250\n",
            "Epoch 18/100\n",
            "120/120 [==============================] - 29s 238ms/step - loss: 2.2284 - accuracy: 0.1250 - val_loss: 2.2759 - val_accuracy: 0.1250\n",
            "Epoch 19/100\n",
            "120/120 [==============================] - 29s 239ms/step - loss: 2.2291 - accuracy: 0.1250 - val_loss: 2.2759 - val_accuracy: 0.1250\n",
            "Epoch 20/100\n",
            "120/120 [==============================] - 29s 239ms/step - loss: 2.2287 - accuracy: 0.1250 - val_loss: 2.2759 - val_accuracy: 0.1250\n",
            "Epoch 21/100\n",
            "120/120 [==============================] - 29s 238ms/step - loss: 2.2287 - accuracy: 0.1250 - val_loss: 2.2759 - val_accuracy: 0.1250\n",
            "Epoch 22/100\n",
            "120/120 [==============================] - 28s 231ms/step - loss: 2.2283 - accuracy: 0.1250 - val_loss: 2.2759 - val_accuracy: 0.1250\n",
            "Epoch 23/100\n",
            "120/120 [==============================] - 28s 233ms/step - loss: 2.2290 - accuracy: 0.1250 - val_loss: 2.2759 - val_accuracy: 0.1250\n",
            "Epoch 24/100\n",
            "120/120 [==============================] - 28s 234ms/step - loss: 2.2284 - accuracy: 0.1250 - val_loss: 2.2759 - val_accuracy: 0.1250\n",
            "Epoch 25/100\n",
            "120/120 [==============================] - 28s 234ms/step - loss: 2.2283 - accuracy: 0.1250 - val_loss: 2.2759 - val_accuracy: 0.1250\n",
            "Epoch 26/100\n",
            "120/120 [==============================] - 28s 234ms/step - loss: 2.2294 - accuracy: 0.1250 - val_loss: 2.2759 - val_accuracy: 0.1250\n",
            "Epoch 27/100\n",
            "120/120 [==============================] - 28s 234ms/step - loss: 2.2271 - accuracy: 0.1250 - val_loss: 2.2759 - val_accuracy: 0.1250\n",
            "Epoch 28/100\n",
            "120/120 [==============================] - 28s 234ms/step - loss: 2.2275 - accuracy: 0.1250 - val_loss: 2.2759 - val_accuracy: 0.1250\n",
            "Epoch 29/100\n",
            "120/120 [==============================] - 28s 234ms/step - loss: 2.2293 - accuracy: 0.1250 - val_loss: 2.2759 - val_accuracy: 0.1250\n",
            "Epoch 30/100\n",
            "120/120 [==============================] - 28s 234ms/step - loss: 2.2293 - accuracy: 0.1250 - val_loss: 2.2759 - val_accuracy: 0.1250\n",
            "Epoch 31/100\n",
            "120/120 [==============================] - 28s 234ms/step - loss: 2.2270 - accuracy: 0.1250 - val_loss: 2.2759 - val_accuracy: 0.1250\n",
            "Epoch 32/100\n",
            "120/120 [==============================] - 28s 235ms/step - loss: 2.2288 - accuracy: 0.1250 - val_loss: 2.2759 - val_accuracy: 0.1250\n",
            "Epoch 33/100\n",
            "120/120 [==============================] - 28s 235ms/step - loss: 2.2285 - accuracy: 0.1250 - val_loss: 2.2759 - val_accuracy: 0.1250\n",
            "Epoch 34/100\n",
            "120/120 [==============================] - 28s 234ms/step - loss: 2.2275 - accuracy: 0.1250 - val_loss: 2.2759 - val_accuracy: 0.1250\n",
            "Epoch 35/100\n",
            "120/120 [==============================] - 28s 234ms/step - loss: 2.2273 - accuracy: 0.1250 - val_loss: 2.2759 - val_accuracy: 0.1250\n",
            "Epoch 36/100\n",
            "120/120 [==============================] - 28s 234ms/step - loss: 2.2275 - accuracy: 0.1250 - val_loss: 2.2759 - val_accuracy: 0.1250\n",
            "Epoch 37/100\n",
            "120/120 [==============================] - 28s 234ms/step - loss: 2.2275 - accuracy: 0.1250 - val_loss: 2.2759 - val_accuracy: 0.1250\n",
            "Epoch 38/100\n",
            "120/120 [==============================] - 28s 233ms/step - loss: 2.2287 - accuracy: 0.1250 - val_loss: 2.2759 - val_accuracy: 0.1250\n",
            "Epoch 39/100\n",
            "120/120 [==============================] - 28s 234ms/step - loss: 2.2274 - accuracy: 0.1250 - val_loss: 2.2759 - val_accuracy: 0.1250\n",
            "Epoch 40/100\n",
            "120/120 [==============================] - 28s 234ms/step - loss: 2.2274 - accuracy: 0.1250 - val_loss: 2.2759 - val_accuracy: 0.1250\n",
            "Epoch 41/100\n",
            "120/120 [==============================] - 28s 234ms/step - loss: 2.2282 - accuracy: 0.1250 - val_loss: 2.2759 - val_accuracy: 0.1250\n",
            "Epoch 42/100\n",
            "120/120 [==============================] - 28s 234ms/step - loss: 2.2284 - accuracy: 0.1250 - val_loss: 2.2759 - val_accuracy: 0.1250\n",
            "Epoch 43/100\n",
            "120/120 [==============================] - 28s 234ms/step - loss: 2.2280 - accuracy: 0.1250 - val_loss: 2.2759 - val_accuracy: 0.1250\n",
            "Epoch 44/100\n",
            "120/120 [==============================] - 28s 234ms/step - loss: 2.2285 - accuracy: 0.1250 - val_loss: 2.2759 - val_accuracy: 0.1250\n",
            "Epoch 45/100\n",
            "120/120 [==============================] - 28s 233ms/step - loss: 2.2280 - accuracy: 0.1250 - val_loss: 2.2759 - val_accuracy: 0.1250\n",
            "Epoch 46/100\n",
            "120/120 [==============================] - 28s 234ms/step - loss: 2.2286 - accuracy: 0.1250 - val_loss: 2.2759 - val_accuracy: 0.1250\n",
            "Epoch 47/100\n",
            "120/120 [==============================] - 28s 234ms/step - loss: 2.2290 - accuracy: 0.1250 - val_loss: 2.2759 - val_accuracy: 0.1250\n",
            "Epoch 48/100\n",
            "120/120 [==============================] - 28s 234ms/step - loss: 2.2288 - accuracy: 0.1250 - val_loss: 2.2759 - val_accuracy: 0.1250\n",
            "Epoch 49/100\n",
            "120/120 [==============================] - 28s 234ms/step - loss: 2.2288 - accuracy: 0.1250 - val_loss: 2.2759 - val_accuracy: 0.1250\n",
            "Epoch 50/100\n",
            "120/120 [==============================] - 28s 234ms/step - loss: 2.2305 - accuracy: 0.1250 - val_loss: 2.2759 - val_accuracy: 0.1250\n",
            "Epoch 51/100\n",
            "120/120 [==============================] - 28s 234ms/step - loss: 2.2276 - accuracy: 0.1250 - val_loss: 2.2759 - val_accuracy: 0.1250\n",
            "Epoch 52/100\n",
            "120/120 [==============================] - 28s 234ms/step - loss: 2.2287 - accuracy: 0.1250 - val_loss: 2.2759 - val_accuracy: 0.1250\n",
            "Epoch 53/100\n",
            "120/120 [==============================] - 28s 234ms/step - loss: 2.2279 - accuracy: 0.1250 - val_loss: 2.2759 - val_accuracy: 0.1250\n",
            "Epoch 54/100\n",
            "120/120 [==============================] - 28s 234ms/step - loss: 2.2274 - accuracy: 0.1250 - val_loss: 2.2759 - val_accuracy: 0.1250\n",
            "Epoch 55/100\n",
            "120/120 [==============================] - 28s 234ms/step - loss: 2.2261 - accuracy: 0.1250 - val_loss: 2.2759 - val_accuracy: 0.1250\n",
            "Epoch 56/100\n",
            "120/120 [==============================] - 28s 234ms/step - loss: 2.2285 - accuracy: 0.1250 - val_loss: 2.2759 - val_accuracy: 0.1250\n",
            "Epoch 57/100\n",
            "120/120 [==============================] - 28s 234ms/step - loss: 2.2273 - accuracy: 0.1250 - val_loss: 2.2759 - val_accuracy: 0.1250\n",
            "Epoch 58/100\n",
            "120/120 [==============================] - 28s 234ms/step - loss: 2.2279 - accuracy: 0.1250 - val_loss: 2.2759 - val_accuracy: 0.1250\n",
            "Epoch 59/100\n",
            "120/120 [==============================] - 28s 234ms/step - loss: 2.2272 - accuracy: 0.1250 - val_loss: 2.2759 - val_accuracy: 0.1250\n",
            "Epoch 60/100\n",
            "120/120 [==============================] - 28s 234ms/step - loss: 2.2280 - accuracy: 0.1250 - val_loss: 2.2759 - val_accuracy: 0.1250\n",
            "Epoch 61/100\n",
            "120/120 [==============================] - 28s 234ms/step - loss: 2.2288 - accuracy: 0.1250 - val_loss: 2.2759 - val_accuracy: 0.1250\n",
            "Epoch 62/100\n",
            "120/120 [==============================] - 28s 234ms/step - loss: 2.2279 - accuracy: 0.1250 - val_loss: 2.2759 - val_accuracy: 0.1250\n",
            "Epoch 63/100\n",
            "120/120 [==============================] - 28s 234ms/step - loss: 2.2268 - accuracy: 0.1250 - val_loss: 2.2759 - val_accuracy: 0.1250\n",
            "Epoch 64/100\n",
            "120/120 [==============================] - 28s 234ms/step - loss: 2.2273 - accuracy: 0.1250 - val_loss: 2.2759 - val_accuracy: 0.1250\n",
            "Epoch 65/100\n",
            "120/120 [==============================] - 28s 234ms/step - loss: 2.2294 - accuracy: 0.1250 - val_loss: 2.2759 - val_accuracy: 0.1250\n",
            "Epoch 66/100\n",
            "120/120 [==============================] - 28s 234ms/step - loss: 2.2283 - accuracy: 0.1250 - val_loss: 2.2759 - val_accuracy: 0.1250\n",
            "Epoch 67/100\n",
            "120/120 [==============================] - 28s 234ms/step - loss: 2.2284 - accuracy: 0.1250 - val_loss: 2.2759 - val_accuracy: 0.1250\n",
            "Epoch 68/100\n",
            "120/120 [==============================] - 28s 234ms/step - loss: 2.2274 - accuracy: 0.1250 - val_loss: 2.2759 - val_accuracy: 0.1250\n",
            "Epoch 69/100\n",
            "120/120 [==============================] - 28s 233ms/step - loss: 2.2285 - accuracy: 0.1250 - val_loss: 2.2759 - val_accuracy: 0.1250\n",
            "Epoch 70/100\n",
            "120/120 [==============================] - 28s 234ms/step - loss: 2.2296 - accuracy: 0.1250 - val_loss: 2.2759 - val_accuracy: 0.1250\n",
            "Epoch 71/100\n",
            "120/120 [==============================] - 28s 234ms/step - loss: 2.2283 - accuracy: 0.1250 - val_loss: 2.2759 - val_accuracy: 0.1250\n",
            "Epoch 72/100\n",
            "120/120 [==============================] - 28s 234ms/step - loss: 2.2290 - accuracy: 0.1250 - val_loss: 2.2759 - val_accuracy: 0.1250\n",
            "Epoch 73/100\n",
            "120/120 [==============================] - 28s 234ms/step - loss: 2.2282 - accuracy: 0.1250 - val_loss: 2.2759 - val_accuracy: 0.1250\n",
            "Epoch 74/100\n",
            "120/120 [==============================] - 28s 234ms/step - loss: 2.2276 - accuracy: 0.1250 - val_loss: 2.2759 - val_accuracy: 0.1250\n",
            "Epoch 75/100\n",
            "120/120 [==============================] - 28s 234ms/step - loss: 2.2282 - accuracy: 0.1250 - val_loss: 2.2759 - val_accuracy: 0.1250\n",
            "Epoch 76/100\n",
            "120/120 [==============================] - 28s 234ms/step - loss: 2.2280 - accuracy: 0.1250 - val_loss: 2.2759 - val_accuracy: 0.1250\n",
            "Epoch 77/100\n",
            "120/120 [==============================] - 28s 234ms/step - loss: 2.2287 - accuracy: 0.1250 - val_loss: 2.2759 - val_accuracy: 0.1250\n",
            "Epoch 78/100\n",
            "120/120 [==============================] - 28s 234ms/step - loss: 2.2290 - accuracy: 0.1250 - val_loss: 2.2759 - val_accuracy: 0.1250\n",
            "Epoch 79/100\n",
            "120/120 [==============================] - 28s 233ms/step - loss: 2.2266 - accuracy: 0.1250 - val_loss: 2.2759 - val_accuracy: 0.1250\n",
            "Epoch 80/100\n",
            "120/120 [==============================] - 28s 234ms/step - loss: 2.2292 - accuracy: 0.1250 - val_loss: 2.2759 - val_accuracy: 0.1250\n",
            "Epoch 81/100\n",
            "120/120 [==============================] - 28s 233ms/step - loss: 2.2295 - accuracy: 0.1250 - val_loss: 2.2759 - val_accuracy: 0.1250\n",
            "Epoch 82/100\n",
            "120/120 [==============================] - 28s 234ms/step - loss: 2.2286 - accuracy: 0.1250 - val_loss: 2.2759 - val_accuracy: 0.1250\n",
            "Epoch 83/100\n",
            "120/120 [==============================] - 28s 234ms/step - loss: 2.2289 - accuracy: 0.1250 - val_loss: 2.2759 - val_accuracy: 0.1250\n",
            "Epoch 84/100\n",
            "120/120 [==============================] - 28s 234ms/step - loss: 2.2293 - accuracy: 0.1250 - val_loss: 2.2759 - val_accuracy: 0.1250\n",
            "Epoch 85/100\n",
            "120/120 [==============================] - 28s 233ms/step - loss: 2.2288 - accuracy: 0.1250 - val_loss: 2.2759 - val_accuracy: 0.1250\n",
            "Epoch 86/100\n",
            "120/120 [==============================] - 28s 233ms/step - loss: 2.2297 - accuracy: 0.1250 - val_loss: 2.2759 - val_accuracy: 0.1250\n",
            "Epoch 87/100\n",
            "120/120 [==============================] - 28s 233ms/step - loss: 2.2279 - accuracy: 0.1250 - val_loss: 2.2759 - val_accuracy: 0.1250\n",
            "Epoch 88/100\n",
            "120/120 [==============================] - 28s 233ms/step - loss: 2.2271 - accuracy: 0.1250 - val_loss: 2.2759 - val_accuracy: 0.1250\n",
            "Epoch 89/100\n",
            "120/120 [==============================] - 28s 233ms/step - loss: 2.2292 - accuracy: 0.1250 - val_loss: 2.2759 - val_accuracy: 0.1250\n",
            "Epoch 90/100\n",
            "120/120 [==============================] - 28s 234ms/step - loss: 2.2270 - accuracy: 0.1250 - val_loss: 2.2759 - val_accuracy: 0.1250\n",
            "Epoch 91/100\n",
            "120/120 [==============================] - 28s 233ms/step - loss: 2.2279 - accuracy: 0.1250 - val_loss: 2.2759 - val_accuracy: 0.1250\n",
            "Epoch 92/100\n",
            "120/120 [==============================] - 28s 234ms/step - loss: 2.2296 - accuracy: 0.1250 - val_loss: 2.2759 - val_accuracy: 0.1250\n",
            "Epoch 93/100\n",
            "120/120 [==============================] - 28s 234ms/step - loss: 2.2281 - accuracy: 0.1250 - val_loss: 2.2759 - val_accuracy: 0.1250\n",
            "Epoch 94/100\n",
            "120/120 [==============================] - 28s 234ms/step - loss: 2.2283 - accuracy: 0.1250 - val_loss: 2.2759 - val_accuracy: 0.1250\n",
            "Epoch 95/100\n",
            "120/120 [==============================] - 28s 234ms/step - loss: 2.2286 - accuracy: 0.1250 - val_loss: 2.2759 - val_accuracy: 0.1250\n",
            "Epoch 96/100\n",
            "120/120 [==============================] - 28s 234ms/step - loss: 2.2282 - accuracy: 0.1250 - val_loss: 2.2759 - val_accuracy: 0.1250\n",
            "Epoch 97/100\n",
            "120/120 [==============================] - 28s 234ms/step - loss: 2.2268 - accuracy: 0.1250 - val_loss: 2.2759 - val_accuracy: 0.1250\n",
            "Epoch 98/100\n",
            "120/120 [==============================] - 28s 234ms/step - loss: 2.2288 - accuracy: 0.1250 - val_loss: 2.2759 - val_accuracy: 0.1250\n",
            "Epoch 99/100\n",
            "120/120 [==============================] - 28s 234ms/step - loss: 2.2288 - accuracy: 0.1250 - val_loss: 2.2759 - val_accuracy: 0.1250\n",
            "Epoch 100/100\n",
            "120/120 [==============================] - 28s 234ms/step - loss: 2.2275 - accuracy: 0.1250 - val_loss: 2.2759 - val_accuracy: 0.1250\n"
          ]
        }
      ]
    },
    {
      "cell_type": "code",
      "source": [
        "import matplotlib.pyplot as plt\n",
        "# Utility function for plotting of the model results\n",
        "def visualize_results(history):\n",
        "    # Plot the accuracy and loss curves\n",
        "    acc = history.history['accuracy']\n",
        "    val_acc = history.history['val_accuracy']\n",
        "    loss = history.history['loss']\n",
        "    val_loss = history.history['val_loss']\n",
        "\n",
        "    epochs = range(len(acc))\n",
        "\n",
        "    plt.plot(epochs, acc, 'b', label='Training acc')\n",
        "    plt.plot(epochs, val_acc, 'r', label='Validation acc')\n",
        "    plt.title('Training and validation accuracy')\n",
        "    plt.legend()\n",
        "\n",
        "    plt.figure()\n",
        "\n",
        "    plt.plot(epochs, loss, 'b', label='Training loss')\n",
        "    plt.plot(epochs, val_loss, 'r', label='Validation loss')\n",
        "    plt.title('Training and validation loss')\n",
        "    plt.legend()\n",
        "\n",
        "    plt.show()\n",
        "\n",
        "\n",
        "# Run the function to illustrate accuracy and loss"
      ],
      "metadata": {
        "id": "wqyhUBOhmJPX"
      },
      "execution_count": null,
      "outputs": []
    },
    {
      "cell_type": "code",
      "source": [
        "base_model.save(\"/content/drive/My Drive/FEW_SHOT_MULTI_TASK/Comparison/paper5.h5\" )"
      ],
      "metadata": {
        "id": "DsDqvzhcmObc"
      },
      "execution_count": null,
      "outputs": []
    },
    {
      "cell_type": "code",
      "source": [
        "from keras.models import load_model\n",
        "model = load_model('/content/drive/My Drive/FEW_SHOT_MULTI_TASK/Comparison/paper5.h5')"
      ],
      "metadata": {
        "id": "hhF0kfhImRj8"
      },
      "execution_count": null,
      "outputs": []
    },
    {
      "cell_type": "code",
      "source": [],
      "metadata": {
        "id": "IW4Auq4mmu45"
      },
      "execution_count": null,
      "outputs": []
    },
    {
      "cell_type": "markdown",
      "source": [
        "#testing"
      ],
      "metadata": {
        "id": "B1K24gaXJiIo"
      }
    },
    {
      "cell_type": "code",
      "source": [
        "from keras.preprocessing.image import ImageDataGenerator\n",
        "\n",
        "test_datagen = ImageDataGenerator(rescale=1./255)"
      ],
      "metadata": {
        "id": "6gOWYZMk1o3E"
      },
      "execution_count": null,
      "outputs": []
    },
    {
      "cell_type": "code",
      "source": [
        "test_generator = test_datagen.flow_from_directory(\n",
        "    directory=\"/content/drive/My Drive/BreaKHis2_8_trial/BreaKHis8_test/\",\n",
        "    target_size=(224,224),\n",
        "    color_mode=\"rgb\",\n",
        "    batch_size=1,\n",
        "    class_mode=\"categorical\",  #None\n",
        "    shuffle=False,\n",
        "    #seed=42\n",
        ")\n",
        "nBatches = 1"
      ],
      "metadata": {
        "colab": {
          "base_uri": "https://localhost:8080/"
        },
        "id": "74_ywpv_1o4c",
        "outputId": "ef17341a-a386-4198-dc9a-b0236b6a4cb1"
      },
      "execution_count": null,
      "outputs": [
        {
          "output_type": "stream",
          "name": "stdout",
          "text": [
            "Found 1876 images belonging to 8 classes.\n"
          ]
        }
      ]
    },
    {
      "cell_type": "code",
      "source": [
        "test_generator.reset()"
      ],
      "metadata": {
        "id": "CEweMIqCZDq_"
      },
      "execution_count": null,
      "outputs": []
    },
    {
      "cell_type": "code",
      "source": [
        "y_true = test_generator.classes"
      ],
      "metadata": {
        "id": "nYQQ_MWZBVIr"
      },
      "execution_count": null,
      "outputs": []
    },
    {
      "cell_type": "code",
      "source": [
        "print(\"Test images class lables: \",y_true)"
      ],
      "metadata": {
        "colab": {
          "base_uri": "https://localhost:8080/"
        },
        "id": "Cno77AlqXVNQ",
        "outputId": "adf4fcea-d32b-4be4-ab79-954520421372"
      },
      "execution_count": null,
      "outputs": [
        {
          "output_type": "stream",
          "name": "stdout",
          "text": [
            "Test images class lables:  [0 0 0 ... 7 7 7]\n"
          ]
        }
      ]
    },
    {
      "cell_type": "code",
      "source": [
        "pred=model.predict_generator(generator=test_generator, steps=test_generator.samples//nBatches, max_queue_size=10,\n",
        "                                workers=1, use_multiprocessing=False, verbose=1)"
      ],
      "metadata": {
        "colab": {
          "base_uri": "https://localhost:8080/"
        },
        "id": "7rOLEOgtZRzl",
        "outputId": "13a4776e-dc62-4695-e3ec-a4bf0eec406b"
      },
      "execution_count": null,
      "outputs": [
        {
          "output_type": "stream",
          "name": "stderr",
          "text": [
            "/usr/local/lib/python3.7/dist-packages/ipykernel_launcher.py:2: UserWarning: `Model.predict_generator` is deprecated and will be removed in a future version. Please use `Model.predict`, which supports generators.\n",
            "  \n"
          ]
        },
        {
          "output_type": "stream",
          "name": "stdout",
          "text": [
            "1876/1876 [==============================] - 382s 202ms/step\n"
          ]
        }
      ]
    },
    {
      "cell_type": "code",
      "source": [
        "#y_pred = np.argmax(pred,axis=1)\n",
        "print(\"Test images predicted labels: \", pred)"
      ],
      "metadata": {
        "colab": {
          "base_uri": "https://localhost:8080/"
        },
        "id": "6wYCyj4sZ_6Y",
        "outputId": "cd878cfb-0e44-4d83-d669-d1ca8f38d876"
      },
      "execution_count": null,
      "outputs": [
        {
          "output_type": "stream",
          "name": "stdout",
          "text": [
            "Test images predicted labels:  [[0.08372338 0.3495071  0.12962827 ... 0.05397842 0.12263276 0.11002974]\n",
            " [0.0877896  0.3265982  0.12995961 ... 0.05812953 0.12224349 0.11465381]\n",
            " [0.09030262 0.31164864 0.12942146 ... 0.06034229 0.11976856 0.11917002]\n",
            " ...\n",
            " [0.08695964 0.31856677 0.12946978 ... 0.05745277 0.11660762 0.12145809]\n",
            " [0.08428337 0.34190124 0.12893796 ... 0.0543667  0.12017138 0.11451655]\n",
            " [0.08842998 0.3041559  0.13093658 ... 0.05916451 0.1162352  0.1250007 ]]\n"
          ]
        }
      ]
    },
    {
      "cell_type": "code",
      "source": [
        "pred.shape"
      ],
      "metadata": {
        "colab": {
          "base_uri": "https://localhost:8080/"
        },
        "id": "ul6GqnNqc4Y8",
        "outputId": "994ff00b-c7fe-4d76-c027-b772a8e89ca7"
      },
      "execution_count": null,
      "outputs": [
        {
          "output_type": "execute_result",
          "data": {
            "text/plain": [
              "(1876, 8)"
            ]
          },
          "metadata": {},
          "execution_count": 90
        }
      ]
    },
    {
      "cell_type": "code",
      "source": [
        "y_prd = np.argmax(pred,axis=1)\n",
        "print(\"y_prd shape: \",y_prd.shape)\n",
        "print(\"\")\n",
        "print(\"y_true.shape\", y_true.shape)"
      ],
      "metadata": {
        "colab": {
          "base_uri": "https://localhost:8080/"
        },
        "id": "9uFV-VM8Ekqz",
        "outputId": "4f93da09-fca5-4615-ea1c-eb307235e80d"
      },
      "execution_count": null,
      "outputs": [
        {
          "output_type": "stream",
          "name": "stdout",
          "text": [
            "y_prd shape:  (1876,)\n",
            "\n",
            "y_true.shape (1876,)\n"
          ]
        }
      ]
    },
    {
      "cell_type": "code",
      "source": [
        "score = model.evaluate_generator(generator=test_generator,\n",
        "                                     steps=test_generator.samples//nBatches,\n",
        "                                     max_queue_size=10,\n",
        "                                     workers=1,\n",
        "                                     use_multiprocessing=False,\n",
        "                                     verbose=1)\n",
        "print(\"Test loss: %.3f - Test acc: %.3f\" % (score[0], score[1]))\n"
      ],
      "metadata": {
        "colab": {
          "base_uri": "https://localhost:8080/"
        },
        "id": "3ZBIpXRU1o7c",
        "outputId": "f665370d-e64e-465a-f75f-d8b361f2da28"
      },
      "execution_count": null,
      "outputs": [
        {
          "output_type": "stream",
          "name": "stderr",
          "text": [
            "/usr/local/lib/python3.7/dist-packages/ipykernel_launcher.py:6: UserWarning: `Model.evaluate_generator` is deprecated and will be removed in a future version. Please use `Model.evaluate`, which supports generators.\n",
            "  \n"
          ]
        },
        {
          "output_type": "stream",
          "name": "stdout",
          "text": [
            "1876/1876 [==============================] - 111s 59ms/step - loss: 2.3849 - accuracy: 0.1269\n",
            "Test loss: 2.385 - Test acc: 0.127\n"
          ]
        }
      ]
    },
    {
      "cell_type": "code",
      "source": [
        "print(score)"
      ],
      "metadata": {
        "colab": {
          "base_uri": "https://localhost:8080/"
        },
        "id": "FsTMA0RFDWga",
        "outputId": "a67e8706-591b-4f03-d135-8a96e390294f"
      },
      "execution_count": null,
      "outputs": [
        {
          "output_type": "stream",
          "name": "stdout",
          "text": [
            "[2.3849215507507324, 0.1268656700849533]\n"
          ]
        }
      ]
    },
    {
      "cell_type": "markdown",
      "source": [
        "#EVALUATION"
      ],
      "metadata": {
        "id": "0pV-1OClVOLS"
      }
    },
    {
      "cell_type": "markdown",
      "source": [
        "<font size = 5><font color=\"yellow\">Confusion matrix & classification report"
      ],
      "metadata": {
        "id": "OjZaUq9u_U5T"
      }
    },
    {
      "cell_type": "code",
      "source": [
        "from sklearn.metrics import confusion_matrix\n",
        "cm = confusion_matrix(y_true, y_prd)\n",
        "print('Confusion Matrix\\n')\n",
        "print(cm)"
      ],
      "metadata": {
        "id": "BHh4XPD91o89",
        "colab": {
          "base_uri": "https://localhost:8080/"
        },
        "outputId": "f827c01e-f074-46da-ccd0-7fc8dfad9fae"
      },
      "execution_count": null,
      "outputs": [
        {
          "output_type": "stream",
          "name": "stdout",
          "text": [
            "Confusion Matrix\n",
            "\n",
            "[[  0  98   0   0   0   0   0   0]\n",
            " [  0 238   0   0   0   0   0   0]\n",
            " [  0  94   0   0   0   0   0   0]\n",
            " [  0 132   0   0   0   0   0   0]\n",
            " [  0 857   0   0   0   0   0   0]\n",
            " [  0 140   0   0   0   0   0   0]\n",
            " [  0 188   0   0   0   0   0   0]\n",
            " [  0 129   0   0   0   0   0   0]]\n"
          ]
        }
      ]
    },
    {
      "cell_type": "code",
      "source": [
        "import numpy as np\n",
        "import itertools\n",
        "\n",
        "target_names = ['A', 'F', 'PT', 'TA', 'DC','LC', 'MC', 'PC']\n",
        "\n",
        "def plot_confusion_matrix(cm,\n",
        "                          target_names,\n",
        "                          title='Confusion matrix',\n",
        "                          cmap=None,\n",
        "                          normalize=True):\n",
        "\n",
        "\n",
        "\n",
        "    accuracy = np.trace(cm) / np.sum(cm).astype('float')\n",
        "    misclass = 1 - accuracy\n",
        "\n",
        "    if cmap is None:\n",
        "        cmap = plt.get_cmap('Blues')\n",
        "\n",
        "    plt.figure(figsize=(8, 6))\n",
        "    plt.imshow(cm, interpolation='nearest', cmap=cmap)\n",
        "    plt.title(title)\n",
        "    plt.colorbar()\n",
        "\n",
        "    if target_names is not None:\n",
        "        tick_marks = np.arange(len(target_names))\n",
        "        plt.xticks(tick_marks, target_names, rotation=45)\n",
        "        plt.yticks(tick_marks, target_names)\n",
        "\n",
        "    if normalize:\n",
        "        cm = cm.astype('float') / cm.sum(axis=1)[:, np.newaxis]\n",
        "\n",
        "\n",
        "    thresh = cm.max() / 1.5 if normalize else cm.max() / 2\n",
        "    for i, j in itertools.product(range(cm.shape[0]), range(cm.shape[1])):\n",
        "        if normalize:\n",
        "            plt.text(j, i, \"{:0.4f}\".format(cm[i, j]),\n",
        "                     horizontalalignment=\"center\",\n",
        "                     color=\"white\" if cm[i, j] > thresh else \"black\")\n",
        "        else:\n",
        "            plt.text(j, i, \"{:,}\".format(cm[i, j]),\n",
        "                     horizontalalignment=\"center\",\n",
        "                     color=\"white\" if cm[i, j] > thresh else \"black\")\n",
        "\n",
        "\n",
        "    plt.tight_layout()\n",
        "    plt.ylabel('True label')\n",
        "    plt.xlabel('Predicted label\\naccuracy={:0.4f}; misclass={:0.4f}'.format(accuracy, misclass))\n",
        "    plt.show()\n",
        "\n",
        "plot_confusion_matrix(cm, target_names,\n",
        "                          title='Confusion matrix',\n",
        "                          cmap=plt.cm.Blues,\n",
        "                          normalize=True)"
      ],
      "metadata": {
        "colab": {
          "base_uri": "https://localhost:8080/",
          "height": 467
        },
        "id": "VOleJPOJEUEq",
        "outputId": "4e83e5da-831a-41dd-c127-2012c05abcc1"
      },
      "execution_count": null,
      "outputs": [
        {
          "output_type": "display_data",
          "data": {
            "text/plain": [
              "<Figure size 576x432 with 2 Axes>"
            ],
            "image/png": "[encoded data removed]"
          },
          "metadata": {
            "needs_background": "light"
          }
        }
      ]
    },
    {
      "cell_type": "code",
      "source": [
        "#importing accuracy_score, precision_score, recall_score, f1_score\n",
        "from sklearn.metrics import accuracy_score, precision_score, recall_score, f1_score\n",
        "print('\\nAccuracy: {:.2f}\\n'.format(accuracy_score(y_true, y_prd)))\n",
        "\n",
        "print('Micro Precision: {:.2f}'.format(precision_score(y_true, y_prd, average='micro')))\n",
        "print('Micro Recall: {:.2f}'.format(recall_score(y_true, y_prd, average='micro')))\n",
        "print('Micro F1-score: {:.2f}\\n'.format(f1_score(y_true, y_prd, average='micro')))\n",
        "\n",
        "print('Macro Precision: {:.2f}'.format(precision_score(y_true, y_prd, average='macro')))\n",
        "print('Macro Recall: {:.2f}'.format(recall_score(y_true, y_prd, average='macro')))\n",
        "print('Macro F1-score: {:.2f}\\n'.format(f1_score(y_true, y_prd, average='macro')))\n",
        "\n",
        "print('Weighted Precision: {:.2f}'.format(precision_score(y_true, y_prd, average='weighted')))\n",
        "print('Weighted Recall: {:.2f}'.format(recall_score(y_true, y_prd, average='weighted')))\n",
        "print('Weighted F1-score: {:.2f}'.format(f1_score(y_true, y_prd, average='weighted')))\n",
        "\n",
        "\n",
        "from sklearn.metrics import classification_report\n",
        "print('\\nClassification Report\\n')\n",
        "print(classification_report(y_true, y_prd, target_names=['Class 0- A:', 'Class 1- F:', 'Class 2- PT:', 'Class 3- TA:','Class 4- DC:','Class 5- LC:','Class 6- MC:', 'Class 7- PC:'], digits = 4))\n"
      ],
      "metadata": {
        "id": "EFnPYZK31pBr",
        "colab": {
          "base_uri": "https://localhost:8080/"
        },
        "outputId": "8fe02656-5b44-4ede-f590-9d5916ddd788"
      },
      "execution_count": null,
      "outputs": [
        {
          "output_type": "stream",
          "name": "stdout",
          "text": [
            "\n",
            "Accuracy: 0.13\n",
            "\n",
            "Micro Precision: 0.13\n",
            "Micro Recall: 0.13\n",
            "Micro F1-score: 0.13\n",
            "\n",
            "Macro Precision: 0.02\n",
            "Macro Recall: 0.12\n",
            "Macro F1-score: 0.03\n",
            "\n",
            "Weighted Precision: 0.02\n",
            "Weighted Recall: 0.13\n",
            "Weighted F1-score: 0.03\n",
            "\n",
            "Classification Report\n",
            "\n",
            "              precision    recall  f1-score   support\n",
            "\n",
            " Class 0- A:     0.0000    0.0000    0.0000        98\n",
            " Class 1- F:     0.1269    1.0000    0.2252       238\n",
            "Class 2- PT:     0.0000    0.0000    0.0000        94\n",
            "Class 3- TA:     0.0000    0.0000    0.0000       132\n",
            "Class 4- DC:     0.0000    0.0000    0.0000       857\n",
            "Class 5- LC:     0.0000    0.0000    0.0000       140\n",
            "Class 6- MC:     0.0000    0.0000    0.0000       188\n",
            "Class 7- PC:     0.0000    0.0000    0.0000       129\n",
            "\n",
            "    accuracy                         0.1269      1876\n",
            "   macro avg     0.0159    0.1250    0.0281      1876\n",
            "weighted avg     0.0161    0.1269    0.0286      1876\n",
            "\n"
          ]
        },
        {
          "output_type": "stream",
          "name": "stderr",
          "text": [
            "/usr/local/lib/python3.7/dist-packages/sklearn/metrics/_classification.py:1318: UndefinedMetricWarning: Precision is ill-defined and being set to 0.0 in labels with no predicted samples. Use `zero_division` parameter to control this behavior.\n",
            "  _warn_prf(average, modifier, msg_start, len(result))\n",
            "/usr/local/lib/python3.7/dist-packages/sklearn/metrics/_classification.py:1318: UndefinedMetricWarning: Precision is ill-defined and being set to 0.0 in labels with no predicted samples. Use `zero_division` parameter to control this behavior.\n",
            "  _warn_prf(average, modifier, msg_start, len(result))\n",
            "/usr/local/lib/python3.7/dist-packages/sklearn/metrics/_classification.py:1318: UndefinedMetricWarning: Precision and F-score are ill-defined and being set to 0.0 in labels with no predicted samples. Use `zero_division` parameter to control this behavior.\n",
            "  _warn_prf(average, modifier, msg_start, len(result))\n",
            "/usr/local/lib/python3.7/dist-packages/sklearn/metrics/_classification.py:1318: UndefinedMetricWarning: Precision and F-score are ill-defined and being set to 0.0 in labels with no predicted samples. Use `zero_division` parameter to control this behavior.\n",
            "  _warn_prf(average, modifier, msg_start, len(result))\n",
            "/usr/local/lib/python3.7/dist-packages/sklearn/metrics/_classification.py:1318: UndefinedMetricWarning: Precision and F-score are ill-defined and being set to 0.0 in labels with no predicted samples. Use `zero_division` parameter to control this behavior.\n",
            "  _warn_prf(average, modifier, msg_start, len(result))\n"
          ]
        }
      ]
    },
    {
      "cell_type": "markdown",
      "source": [
        "<font size = 5><font color=\"yellow\">ROC AUC score/curve"
      ],
      "metadata": {
        "id": "Rllzw4pX-34d"
      }
    },
    {
      "cell_type": "code",
      "source": [
        "import pandas as pd\n",
        "from sklearn.preprocessing import OrdinalEncoder, LabelEncoder\n",
        "from sklearn.metrics import roc_curve, roc_auc_score\n",
        "#roc auc score\n",
        "scr1 = roc_auc_score(y_true, pred, multi_class='ovo', average='macro')\n",
        "scr3 = roc_auc_score(y_true, pred, multi_class='ovr', average='macro')\n",
        "scr2 = roc_auc_score(y_true, pred, multi_class='ovo', average='weighted')\n",
        "scr4 = roc_auc_score(y_true, pred, multi_class='ovr', average='weighted')\n",
        "\n",
        "print(\"macro - ovo ROC AUC Score: \", scr1)\n",
        "print(\"\")\n",
        "\n",
        "print(\"weighted - ovo ROC AUC Score: \", scr2)\n",
        "print(\"\")\n",
        "\n",
        "print(\"macro - ovr ROC AUC Score: \", scr3)\n",
        "print(\"\")\n",
        "\n",
        "print(\"weighted - ovr ROC AUC Score: \", scr4)\n",
        "print(\"\")\n"
      ],
      "metadata": {
        "colab": {
          "base_uri": "https://localhost:8080/"
        },
        "id": "CtjO7dEI28NB",
        "outputId": "5e2612b9-51e0-42cb-8ec6-016112205b87"
      },
      "execution_count": null,
      "outputs": [
        {
          "output_type": "stream",
          "name": "stdout",
          "text": [
            "macro - ovo ROC AUC Score:  0.5320811624478113\n",
            "\n",
            "weighted - ovo ROC AUC Score:  0.533812297505911\n",
            "\n",
            "macro - ovr ROC AUC Score:  0.5158829781465352\n",
            "\n",
            "weighted - ovr ROC AUC Score:  0.5576634447365613\n",
            "\n"
          ]
        }
      ]
    },
    {
      "cell_type": "code",
      "source": [
        "# roc curve for classes\n",
        "fpr = {}\n",
        "tpr = {}\n",
        "thresh ={}\n",
        "\n",
        "target_names = ['A', 'F', 'PT', 'TA', 'DC','LC', 'MC', 'PC']\n",
        "n_class = 8\n",
        "\n",
        "for i in range(len(target_names)):\n",
        "    fpr[i], tpr[i], thresh[i] = roc_curve(y_true, y_prd[:], pos_label=i)\n",
        "    auroc = round(metrics.auc(fpr[i], tpr[i]),2)\n",
        "    print('class',i,'-', target_names[i],' :','--AUC--->',auroc)\n",
        "\n",
        "# plotting\n",
        "plt.plot(fpr[0], tpr[0], linestyle='--',color='orange', label='Class 0-A: vs Rest')\n",
        "plt.plot(fpr[1], tpr[1], linestyle='--',color='green', label='Class 1- F: vs Rest')\n",
        "plt.plot(fpr[2], tpr[2], linestyle='--',color='blue', label='Class 2- PT: vs Rest')\n",
        "plt.plot(fpr[3], tpr[3], linestyle='--',color='yellow', label='Class 3- TA: vs Rest')\n",
        "plt.plot(fpr[4], tpr[4], linestyle='-',color='orange', label='Class 4-DC vs Rest')\n",
        "plt.plot(fpr[5], tpr[5], linestyle='-',color='green', label='Class 5-LC: vs Rest')\n",
        "plt.plot(fpr[6], tpr[6], linestyle='-',color='blue', label='Class 6-MC: vs Rest')\n",
        "plt.plot(fpr[7], tpr[7], linestyle='-',color='yellow', label='Class 7- LC: vs Rest')\n",
        "\n",
        "\n",
        "plt.title('Multiclass ROC-AUC curve')\n",
        "plt.xlabel('False Positive Rate')\n",
        "plt.ylabel('True Positive rate')\n",
        "plt.legend(loc='best')\n",
        "plt.savefig('Multilass ROC',dpi=300, bbox_inches='tight',   pad_inches = 0);\n",
        "\n",
        "\n",
        "plt.show()"
      ],
      "metadata": {
        "colab": {
          "base_uri": "https://localhost:8080/",
          "height": 434
        },
        "id": "86QiI2Uh3EVx",
        "outputId": "92fb138d-ee3d-4f61-b590-b79065a2f815"
      },
      "execution_count": null,
      "outputs": [
        {
          "output_type": "stream",
          "name": "stdout",
          "text": [
            "class 0 - A  : --AUC---> 0.5\n",
            "class 1 - F  : --AUC---> 0.5\n",
            "class 2 - PT  : --AUC---> 0.5\n",
            "class 3 - TA  : --AUC---> 0.5\n",
            "class 4 - DC  : --AUC---> 0.5\n",
            "class 5 - LC  : --AUC---> 0.5\n",
            "class 6 - MC  : --AUC---> 0.5\n",
            "class 7 - PC  : --AUC---> 0.5\n"
          ]
        },
        {
          "output_type": "display_data",
          "data": {
            "text/plain": [
              "<Figure size 432x288 with 1 Axes>"
            ],
            "image/png": "[encoded data removed]"
          },
          "metadata": {
            "needs_background": "light"
          }
        }
      ]
    }
  ]
}