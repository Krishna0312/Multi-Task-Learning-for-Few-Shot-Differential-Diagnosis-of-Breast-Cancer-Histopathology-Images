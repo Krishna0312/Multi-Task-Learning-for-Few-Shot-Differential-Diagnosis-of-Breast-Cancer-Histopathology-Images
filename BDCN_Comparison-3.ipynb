{
  "cells": [
    {
      "cell_type": "markdown",
      "metadata": {
        "id": "M_OXgs0oVvvT"
      },
      "source": [
        "[Paper-3](https://www.ncbi.nlm.nih.gov/pmc/articles/PMC8274904/)"
      ]
    },
    {
      "cell_type": "markdown",
      "metadata": {
        "id": "ofLkTXYwfVJj"
      },
      "source": [
        "# Part A  - concatenation"
      ]
    },
    {
      "cell_type": "code",
      "execution_count": null,
      "metadata": {
        "colab": {
          "base_uri": "https://localhost:8080/"
        },
        "id": "e-ei7AuCIQbZ",
        "outputId": "060477cb-7e8f-4610-d4c8-5718ee4c4170"
      },
      "outputs": [
        {
          "name": "stdout",
          "output_type": "stream",
          "text": [
            "Mounted at /content/drive\n"
          ]
        }
      ],
      "source": [
        "from google.colab import drive\n",
        "drive.mount('/content/drive')"
      ]
    },
    {
      "cell_type": "code",
      "execution_count": null,
      "metadata": {
        "colab": {
          "base_uri": "https://localhost:8080/"
        },
        "id": "h4VXDBvCgJ1B",
        "outputId": "be43411e-e087-4a65-e09d-523839e3a584"
      },
      "outputs": [
        {
          "name": "stdout",
          "output_type": "stream",
          "text": [
            "PyTorch Version:  1.10.0+cu111\n",
            "Torchvision Version:  0.11.1+cu111\n"
          ]
        }
      ],
      "source": [
        "from __future__ import print_function\n",
        "from __future__ import division\n",
        "import torch\n",
        "import torch.nn as nn\n",
        "import torch.optim as optim\n",
        "import numpy as np\n",
        "import torchvision\n",
        "from torchvision import datasets, models, transforms\n",
        "import torch.utils.data as data\n",
        "from torch.utils.data import Subset, DataLoader, random_split\n",
        "from torchvision.datasets import ImageFolder\n",
        "from sklearn.model_selection import train_test_split\n",
        "from torchvision.transforms import Compose, ToTensor, Resize\n",
        "from torch.optim.lr_scheduler import ExponentialLR, StepLR, ReduceLROnPlateau\n",
        "from sklearn import metrics\n",
        "from torch.nn import functional as F\n",
        "import cv2\n",
        "import tensorflow as tf\n",
        "import keras\n",
        "from tensorflow.keras.applications import InceptionResNetV2\n",
        "from tensorflow.keras.utils import to_categorical\n",
        "import tensorflow as tf\n",
        "from keras import callbacks\n",
        "from keras import optimizers\n",
        "from keras.layers import Dropout, Flatten, Dense\n",
        "from tensorflow.keras.optimizers import Adam\n",
        "from keras.preprocessing.image import ImageDataGenerator\n",
        "\n",
        "import torch\n",
        "from torch.utils.data import DataLoader\n",
        "from torchvision import transforms\n",
        "from torchvision.datasets import ImageFolder\n",
        "\n",
        "\n",
        "import matplotlib.pyplot as plt\n",
        "import time\n",
        "import os\n",
        "import copy\n",
        "print(\"PyTorch Version: \",torch.__version__)\n",
        "print(\"Torchvision Version: \",torchvision.__version__)\n",
        "\n",
        "\n",
        "\n",
        "\n",
        "\n",
        "# Ignore warnings\n",
        "import warnings\n",
        "warnings.filterwarnings(\"ignore\")\n",
        "\n",
        "plt.ion()   # interactive mode"
      ]
    },
    {
      "cell_type": "code",
      "execution_count": null,
      "metadata": {
        "id": "u8J7BM0WqYhr"
      },
      "outputs": [],
      "source": [
        "import os\n",
        "\n",
        "import tensorflow as tf\n",
        "import keras\n",
        "import argparse\n",
        "#from myconfig import configt\n",
        "from keras import optimizers\n",
        "from keras.utils import np_utils\n",
        "#config = tf.ConfigProto()\n",
        "#config.gpu_options.allow_growth = True\n",
        "#keras.backend.tensorflow_backend.set_session(tf.Session(config=config))\n",
        "\n",
        "#conv_base = ResNet50(weights='imagenet', include_top=False, input_shape=(230, 230, 3))\n",
        "#from keras.applications.xception import Xception\n",
        "#conv_base = Xception(weights='imagenet', include_top=False, input_shape=(96, 96, 3))\n",
        "\n",
        "\n",
        "from keras import models\n",
        "from keras import layers\n",
        "from sklearn.metrics import classification_report\n",
        "from sklearn.metrics import confusion_matrix\n",
        "\n",
        "import numpy as np\n",
        "from imutils import paths\n",
        "from keras.preprocessing.image import ImageDataGenerator\n",
        "from keras.applications.vgg16 import VGG16\n",
        "from keras.preprocessing import image\n",
        "from keras.applications.vgg16 import preprocess_input\n",
        "\n",
        "from tensorflow.keras.applications import ResNet50\n",
        "from tensorflow.keras.applications.resnet50 import preprocess_input, decode_predictions\n",
        "from keras.layers import Average\n",
        "from keras.layers import merge\n",
        "\n",
        "from keras import applications\n",
        "from keras.layers import Dense, Dropout, Flatten, Conv2D, MaxPool2D\n",
        "from keras.models import Model, Input\n",
        "\n",
        "import argparse\n",
        "\n",
        "from keras import optimizers\n",
        "import seaborn as sns\n",
        "#from keras.engine.topology import Input\n"
      ]
    },
    {
      "cell_type": "code",
      "execution_count": null,
      "metadata": {
        "id": "WYLMQqTwSqRh"
      },
      "outputs": [],
      "source": [
        "import json\n",
        "import math\n",
        "import os\n",
        "\n",
        "import cv2\n",
        "from PIL import Image\n",
        "import numpy as np\n",
        "from keras import layers\n",
        "from tensorflow.keras.applications import ResNet50,MobileNet, DenseNet201, InceptionV3, NASNetLarge, InceptionResNetV2, NASNetMobile\n",
        "from keras.callbacks import Callback, ModelCheckpoint, ReduceLROnPlateau, TensorBoard\n",
        "from keras.preprocessing.image import ImageDataGenerator\n",
        "from keras.utils.np_utils import to_categorical\n",
        "from keras.models import Sequential\n",
        "from tensorflow.keras.optimizers import Adam\n",
        "import matplotlib.pyplot as plt\n",
        "import pandas as pd\n",
        "from sklearn.model_selection import train_test_split\n",
        "from sklearn.metrics import cohen_kappa_score, accuracy_score\n",
        "import scipy\n",
        "from tqdm import tqdm\n",
        "import tensorflow as tf\n",
        "from keras import backend as K\n",
        "import gc\n",
        "from functools import partial\n",
        "from sklearn import metrics\n",
        "from collections import Counter\n",
        "import json\n",
        "import itertools\n",
        "\n",
        "\n",
        "%matplotlib inline"
      ]
    },
    {
      "cell_type": "code",
      "execution_count": null,
      "metadata": {
        "id": "6kIvjQqw0uro"
      },
      "outputs": [],
      "source": [
        "from keras.preprocessing.image import ImageDataGenerator\n",
        "train_datagen = ImageDataGenerator(\n",
        "        rescale = 1./255)\n",
        "       # rotation_range=40,\n",
        "       # height_shift_range=0.2,\n",
        "       # shear_range=0.2,\n",
        "       # zoom_range=0.2,\n",
        "       # horizontal_flip=True,\n",
        "       # fill_mode='nearest')\n",
        "valid_datagen = ImageDataGenerator(rescale=1./255)"
      ]
    },
    {
      "cell_type": "code",
      "execution_count": null,
      "metadata": {
        "colab": {
          "base_uri": "https://localhost:8080/"
        },
        "id": "koIJZzeE0ybp",
        "outputId": "fdfec52e-07ab-43fe-f43f-7450d6fdda05"
      },
      "outputs": [
        {
          "name": "stdout",
          "output_type": "stream",
          "text": [
            "Found 480 images belonging to 8 classes.\n",
            "Found 40 images belonging to 8 classes.\n"
          ]
        }
      ],
      "source": [
        "train_generator = train_datagen.flow_from_directory(\n",
        "    directory=\"/content/drive/My Drive/BreaKHis2_8_trial/BreaKHis8_train/\",\n",
        "    target_size=(230, 230),\n",
        "    color_mode=\"rgb\",\n",
        "    batch_size=4,\n",
        "    class_mode=\"categorical\",\n",
        "    shuffle=False,\n",
        "    seed=42\n",
        ")\n",
        "valid_generator = valid_datagen.flow_from_directory(\n",
        "    directory=\"/content/drive/My Drive/BreaKHis2_8_trial/BreaKHis8_val/\",\n",
        "    target_size=(230, 230),\n",
        "    color_mode=\"rgb\",\n",
        "    batch_size=4,\n",
        "    class_mode=\"categorical\",\n",
        "    shuffle=False,\n",
        "    seed=42\n",
        ")"
      ]
    },
    {
      "cell_type": "code",
      "execution_count": null,
      "metadata": {
        "colab": {
          "base_uri": "https://localhost:8080/"
        },
        "id": "jKx4HyXWGTUA",
        "outputId": "c8a635d0-9d0b-4160-e24b-3db71123f699"
      },
      "outputs": [
        {
          "name": "stdout",
          "output_type": "stream",
          "text": [
            "label map for train:  {'benign_adenosis': 0, 'benign_fibroadenoma': 1, 'benign_phyllodestumor': 2, 'benign_tubularadenoma': 3, 'malignant_ductalcarcinoma': 4, 'malignant_lobularcarcinoma': 5, 'malignant_mucinouscarcinoma': 6, 'malignant_papillarycarcinoma': 7}\n",
            "\n",
            "----\n",
            "\n",
            "label map for val data:  {'benign_adenosis': 0, 'benign_fibroadenoma': 1, 'benign_phyllodestumor': 2, 'benign_tubularadenoma': 3, 'malignant_ductalcarcinoma': 4, 'malignant_lobularcarcinoma': 5, 'malignant_mucinouscarcinoma': 6, 'malignant_papillarycarcinoma': 7}\n"
          ]
        }
      ],
      "source": [
        "print(\"label map for train: \",train_generator.class_indices)\n",
        "print(\"\")\n",
        "print(\"----\")\n",
        "print(\"\")\n",
        "print(\"label map for val data: \",valid_generator.class_indices)"
      ]
    },
    {
      "cell_type": "code",
      "execution_count": null,
      "metadata": {
        "colab": {
          "base_uri": "https://localhost:8080/"
        },
        "id": "51qhlH6hGVtN",
        "outputId": "982a38f2-3ff6-4064-aa03-f8992179c063"
      },
      "outputs": [
        {
          "name": "stdout",
          "output_type": "stream",
          "text": [
            "Train classes:  [0 0 0 0 0 0 0 0 0 0 0 0 0 0 0 0 0 0 0 0 0 0 0 0 0 0 0 0 0 0 0 0 0 0 0 0 0\n",
            " 0 0 0 0 0 0 0 0 0 0 0 0 0 0 0 0 0 0 0 0 0 0 0 1 1 1 1 1 1 1 1 1 1 1 1 1 1\n",
            " 1 1 1 1 1 1 1 1 1 1 1 1 1 1 1 1 1 1 1 1 1 1 1 1 1 1 1 1 1 1 1 1 1 1 1 1 1\n",
            " 1 1 1 1 1 1 1 1 1 2 2 2 2 2 2 2 2 2 2 2 2 2 2 2 2 2 2 2 2 2 2 2 2 2 2 2 2\n",
            " 2 2 2 2 2 2 2 2 2 2 2 2 2 2 2 2 2 2 2 2 2 2 2 2 2 2 2 2 2 2 2 2 3 3 3 3 3\n",
            " 3 3 3 3 3 3 3 3 3 3 3 3 3 3 3 3 3 3 3 3 3 3 3 3 3 3 3 3 3 3 3 3 3 3 3 3 3\n",
            " 3 3 3 3 3 3 3 3 3 3 3 3 3 3 3 3 3 3 4 4 4 4 4 4 4 4 4 4 4 4 4 4 4 4 4 4 4\n",
            " 4 4 4 4 4 4 4 4 4 4 4 4 4 4 4 4 4 4 4 4 4 4 4 4 4 4 4 4 4 4 4 4 4 4 4 4 4\n",
            " 4 4 4 4 5 5 5 5 5 5 5 5 5 5 5 5 5 5 5 5 5 5 5 5 5 5 5 5 5 5 5 5 5 5 5 5 5\n",
            " 5 5 5 5 5 5 5 5 5 5 5 5 5 5 5 5 5 5 5 5 5 5 5 5 5 5 5 6 6 6 6 6 6 6 6 6 6\n",
            " 6 6 6 6 6 6 6 6 6 6 6 6 6 6 6 6 6 6 6 6 6 6 6 6 6 6 6 6 6 6 6 6 6 6 6 6 6\n",
            " 6 6 6 6 6 6 6 6 6 6 6 6 6 7 7 7 7 7 7 7 7 7 7 7 7 7 7 7 7 7 7 7 7 7 7 7 7\n",
            " 7 7 7 7 7 7 7 7 7 7 7 7 7 7 7 7 7 7 7 7 7 7 7 7 7 7 7 7 7 7 7 7 7 7 7 7]\n",
            "\n",
            "Valid classes:  [0 0 0 0 0 1 1 1 1 1 2 2 2 2 2 3 3 3 3 3 4 4 4 4 4 5 5 5 5 5 6 6 6 6 6 7 7\n",
            " 7 7 7]\n"
          ]
        }
      ],
      "source": [
        "print(\"Train classes: \",train_generator.classes)\n",
        "print(\"\")\n",
        "print(\"Valid classes: \",valid_generator.classes)"
      ]
    },
    {
      "cell_type": "code",
      "execution_count": null,
      "metadata": {
        "id": "6gOWYZMk1o3E"
      },
      "outputs": [],
      "source": [
        "from keras.preprocessing.image import ImageDataGenerator\n",
        "\n",
        "test_datagen = ImageDataGenerator(rescale=1./255)"
      ]
    },
    {
      "cell_type": "code",
      "execution_count": null,
      "metadata": {
        "colab": {
          "base_uri": "https://localhost:8080/"
        },
        "id": "74_ywpv_1o4c",
        "outputId": "ae7f0bc7-ef32-4f0e-9def-e631a98c8d57"
      },
      "outputs": [
        {
          "name": "stdout",
          "output_type": "stream",
          "text": [
            "Found 1876 images belonging to 8 classes.\n"
          ]
        }
      ],
      "source": [
        "testGen = test_datagen.flow_from_directory(\n",
        "    directory=\"/content/drive/My Drive/BreaKHis2_8_trial/BreaKHis8_test/\",\n",
        "    target_size=(230, 230),\n",
        "    color_mode=\"rgb\",\n",
        "    batch_size=1,\n",
        "    class_mode=\"categorical\",  #None\n",
        "    shuffle=False,\n",
        "    #seed=42\n",
        ")\n",
        "nBatches = 1"
      ]
    },
    {
      "cell_type": "code",
      "execution_count": null,
      "metadata": {
        "colab": {
          "base_uri": "https://localhost:8080/"
        },
        "id": "oM9xAWDG4mwY",
        "outputId": "a254658b-56d7-43c4-eecc-8212ca5ff05a"
      },
      "outputs": [
        {
          "name": "stdout",
          "output_type": "stream",
          "text": [
            "Downloading data from https://storage.googleapis.com/tensorflow/keras-applications/resnet/resnet50_weights_tf_dim_ordering_tf_kernels_notop.h5\n",
            "94773248/94765736 [==============================] - 1s 0us/step\n",
            "94781440/94765736 [==============================] - 1s 0us/step\n",
            "Downloading data from https://storage.googleapis.com/tensorflow/keras-applications/vgg16/vgg16_weights_tf_dim_ordering_tf_kernels_notop.h5\n",
            "58892288/58889256 [==============================] - 0s 0us/step\n",
            "58900480/58889256 [==============================] - 0s 0us/step\n"
          ]
        }
      ],
      "source": [
        "# construct the argument parser and parse the arguments\n",
        "#ap = argparse.ArgumentParser()\n",
        "#ap.add_argument(\"-p\", \"--plot\", type=str, default=\"plot.png\",\n",
        "#\thelp=\"path to output loss/accuracy plot\")\n",
        "#args = vars(ap.parse_args())\n",
        "\n",
        "# initialize our number of epochs, initial learning rate, and batch\n",
        "# size\n",
        "chanDim=-1\n",
        "\n",
        "def resnet500(model_input):\n",
        "    base_model = ResNet50(weights='imagenet', include_top=False, input_tensor=model_input)\n",
        "    last = base_model.output\n",
        "    x = layers.Flatten()(last)\n",
        "    x = Dense(256, activation='relu')(x)\n",
        "    #preds = Dense(8, activation='softmax')(x)\n",
        "    #model = Model(base_model.input, preds)\n",
        "    model = Model(base_model.input, x)\n",
        "\n",
        "    base_model.trainable = True\n",
        "    set_trainable = False\n",
        "    for layer in base_model.layers:\n",
        "        if layer.name == 'add_30': # 从这一层开始往后均可训练\n",
        "            set_trainable = True\n",
        "            if set_trainable:\n",
        "                layer.trainable = True\n",
        "            else:\n",
        "                layer.trainable = False\n",
        "\n",
        "    return model\n",
        "\n",
        "def vgg166(model_input):\n",
        "    base_model = VGG16(weights='imagenet', include_top=False, input_tensor=model_input)\n",
        "    last = base_model.output\n",
        "    x = layers.Flatten()(last)\n",
        "    x = Dense(256, activation='relu')(x)\n",
        "    #preds = Dense(8, activation='softmax')(x)\n",
        "    model = Model(base_model.input, x)\n",
        "\n",
        "    base_model.trainable = True\n",
        "    set_trainable = False\n",
        "    for layer in base_model.layers:\n",
        "        if layer.name == 'block5_conv1': # 从这一层开始往后均可训练\n",
        "            set_trainable = True\n",
        "            if set_trainable:\n",
        "                layer.trainable = True\n",
        "            else:\n",
        "                layer.trainable = False\n",
        "\n",
        "    return model\n",
        "\n",
        "model_input = Input(shape=(230, 230, 3))\n",
        "\n",
        "\n",
        "model1 = resnet500(model_input)\n",
        "model2 = vgg166(model_input)\n",
        "\n",
        "ensembled_models = [model1,model2]\n",
        "def ensemble(models,model_input):\n",
        "    outputs = [model.outputs[0] for model in models]\n",
        "    #modelo1 = model1.outputs[0]\n",
        "    #modelo2 = model2.outputs[0]\n",
        "    modelo1 = outputs[0]\n",
        "    modelo2 = outputs[1]\n",
        "    y = layers.concatenate([modelo1, modelo2], axis=-1)\n",
        "    preds = Dense(8, activation='softmax')(y)\n",
        "    model = Model(model_input,preds,name='ensemble')\n",
        "    return model\n",
        "\n",
        "\n",
        "ensemble_model = ensemble(ensembled_models,model_input)"
      ]
    },
    {
      "cell_type": "code",
      "execution_count": null,
      "metadata": {
        "id": "W39QO_cbyyJe"
      },
      "outputs": [],
      "source": [
        "#from keras.utils import plot_model\n",
        "#plot_model(ensemble_model, show_shapes=True, to_file='bcdnet_comodel.png')\n",
        "#added = keras.layers.add([input1, input2])\n",
        "\n",
        "\n",
        "# construct the argument parser and parse the arguments\n",
        "#ap = argparse.ArgumentParser()\n",
        "#ap.add_argument(\"-p\", \"--plot\", type=str, default=\"plot.png\",\n",
        "#\thelp=\"/content/drive/My Drive/BreaKHis2_8_trial/\")\n",
        "#args = vars(ap.parse_args())\n"
      ]
    },
    {
      "cell_type": "code",
      "execution_count": null,
      "metadata": {
        "id": "0slXnvgAgqzk"
      },
      "outputs": [],
      "source": [
        "import numpy as np\n",
        "from sklearn.utils.class_weight import compute_class_weight\n",
        "from sklearn.preprocessing import MultiLabelBinarizer\n",
        "\n",
        "\n",
        "def generate_class_weights(class_series, multi_class=True, one_hot_encoded=False):\n",
        "  \"\"\"\n",
        "  Method to generate class weights given a set of multi-class or multi-label labels, both one-hot-encoded or not.\n",
        "  Some examples of different formats of class_series and their outputs are:\n",
        "    - generate_class_weights(['mango', 'lemon', 'banana', 'mango'], multi_class=True, one_hot_encoded=False)\n",
        "    {'banana': 1.3333333333333333, 'lemon': 1.3333333333333333, 'mango': 0.6666666666666666}\n",
        "    - generate_class_weights([[1, 0, 0], [0, 1, 0], [0, 0, 1], [1, 0, 0]], multi_class=True, one_hot_encoded=True)\n",
        "    {0: 0.6666666666666666, 1: 1.3333333333333333, 2: 1.3333333333333333}\n",
        "    - generate_class_weights([['mango', 'lemon'], ['mango'], ['lemon', 'banana'], ['lemon']], multi_class=False, one_hot_encoded=False)\n",
        "    {'banana': 1.3333333333333333, 'lemon': 0.4444444444444444, 'mango': 0.6666666666666666}\n",
        "    - generate_class_weights([[0, 1, 1], [0, 0, 1], [1, 1, 0], [0, 1, 0]], multi_class=False, one_hot_encoded=True)\n",
        "    {0: 1.3333333333333333, 1: 0.4444444444444444, 2: 0.6666666666666666}\n",
        "  The output is a dictionary in the format { class_label: class_weight }. In case the input is one hot encoded, the class_label would be index\n",
        "  of appareance of the label when the dataset was processed.\n",
        "  In multi_class this is np.unique(class_series) and in multi-label np.unique(np.concatenate(class_series)).\n",
        "  Author: Angel Igareta (angel@igareta.com)\n",
        "  \"\"\"\n",
        "  if multi_class:\n",
        "    # If class is one hot encoded, transform to categorical labels to use compute_class_weight\n",
        "    if one_hot_encoded:\n",
        "      class_series = np.argmax(class_series, axis=1)\n",
        "\n",
        "    # Compute class weights with sklearn method\n",
        "    class_labels = np.unique(class_series)\n",
        "    class_weights = compute_class_weight(class_weight='balanced', classes=class_labels, y=class_series)\n",
        "    return dict(zip(class_labels, class_weights))\n",
        "  else:\n",
        "    # It is neccessary that the multi-label values are one-hot encoded\n",
        "    mlb = None\n",
        "    if not one_hot_encoded:\n",
        "      mlb = MultiLabelBinarizer()\n",
        "      class_series = mlb.fit_transform(class_series)\n",
        "\n",
        "    n_samples = len(class_series)\n",
        "    n_classes = len(class_series[0])\n",
        "\n",
        "    # Count each class frequency\n",
        "    class_count = [0] * n_classes\n",
        "    for classes in class_series:\n",
        "        for index in range(n_classes):\n",
        "            if classes[index] != 0:\n",
        "                class_count[index] += 1\n",
        "\n",
        "    # Compute class weights using balanced method\n",
        "    class_weights = [n_samples / (n_classes * freq) if freq > 0 else 1 for freq in class_count]\n",
        "    class_labels = range(len(class_weights)) if mlb is None else mlb.classes_\n",
        "    return dict(zip(class_labels, class_weights))"
      ]
    },
    {
      "cell_type": "code",
      "execution_count": null,
      "metadata": {
        "colab": {
          "base_uri": "https://localhost:8080/"
        },
        "id": "X5f5lakigzrl",
        "outputId": "f7976296-4a18-49b2-f37b-50afeca6ff43"
      },
      "outputs": [
        {
          "name": "stdout",
          "output_type": "stream",
          "text": [
            "{0: 2.392857142857143, 1: 0.9852941176470589, 2: 2.49468085106383, 3: 1.7765151515151516, 4: 0.2736289381563594, 5: 1.675, 6: 1.247340425531915, 7: 1.817829457364341}\n"
          ]
        }
      ],
      "source": [
        "class_weight = generate_class_weights(testGen.classes)\n",
        "print(class_weight)"
      ]
    },
    {
      "cell_type": "code",
      "execution_count": null,
      "metadata": {
        "colab": {
          "base_uri": "https://localhost:8080/"
        },
        "id": "BTYLMbLF4xGK",
        "outputId": "c8bf50f9-8ca3-4d61-9ca0-dd27ffe991a8"
      },
      "outputs": [
        {
          "name": "stdout",
          "output_type": "stream",
          "text": [
            "Epoch 1/38\n",
            "5/5 [==============================] - 101s 14s/step - loss: 28.4164 - accuracy: 0.1000 - val_loss: 6820986.0000 - val_accuracy: 0.6250\n",
            "Epoch 2/38\n",
            "5/5 [==============================] - 67s 13s/step - loss: 12.7168 - accuracy: 0.2000 - val_loss: 31902878.0000 - val_accuracy: 0.0000e+00\n",
            "Epoch 3/38\n",
            "5/5 [==============================] - 66s 13s/step - loss: 12.6269 - accuracy: 0.0000e+00 - val_loss: 87218118656.0000 - val_accuracy: 0.0000e+00\n",
            "Epoch 4/38\n",
            "5/5 [==============================] - 68s 14s/step - loss: 160.2223 - accuracy: 0.3500 - val_loss: 104611061760.0000 - val_accuracy: 0.0000e+00\n",
            "Epoch 5/38\n",
            "5/5 [==============================] - 68s 14s/step - loss: 344.7641 - accuracy: 0.3000 - val_loss: 101138808832.0000 - val_accuracy: 0.6250\n",
            "Epoch 6/38\n",
            "5/5 [==============================] - 65s 13s/step - loss: 9.3205 - accuracy: 0.1000 - val_loss: 4358576128.0000 - val_accuracy: 0.0000e+00\n",
            "Epoch 7/38\n",
            "5/5 [==============================] - 65s 13s/step - loss: 15.2390 - accuracy: 0.2500 - val_loss: 718213504.0000 - val_accuracy: 0.3750\n",
            "Epoch 8/38\n",
            "5/5 [==============================] - 65s 13s/step - loss: 8.0309 - accuracy: 0.1000 - val_loss: 23464080.0000 - val_accuracy: 0.0000e+00\n",
            "Epoch 9/38\n",
            "5/5 [==============================] - 70s 14s/step - loss: 8.7954 - accuracy: 0.0000e+00 - val_loss: 180020.3594 - val_accuracy: 0.3750\n",
            "Epoch 10/38\n",
            "5/5 [==============================] - 66s 13s/step - loss: 5.6616 - accuracy: 0.2500 - val_loss: 4076.8530 - val_accuracy: 0.0000e+00\n",
            "Epoch 11/38\n",
            "5/5 [==============================] - 65s 13s/step - loss: 4.9590 - accuracy: 0.1500 - val_loss: 460311.0312 - val_accuracy: 0.0000e+00\n",
            "Epoch 12/38\n",
            "5/5 [==============================] - 65s 13s/step - loss: 7.1469 - accuracy: 0.0000e+00 - val_loss: 25392.8398 - val_accuracy: 0.0000e+00\n",
            "Epoch 13/38\n",
            "5/5 [==============================] - 65s 13s/step - loss: 7.2080 - accuracy: 0.1000 - val_loss: 91582.3906 - val_accuracy: 0.0000e+00\n",
            "Epoch 14/38\n",
            "5/5 [==============================] - 64s 13s/step - loss: 7.0592 - accuracy: 0.1500 - val_loss: 340.2796 - val_accuracy: 0.3750\n",
            "Epoch 15/38\n",
            "5/5 [==============================] - 65s 13s/step - loss: 5.7798 - accuracy: 0.0000e+00 - val_loss: 2.0632 - val_accuracy: 0.6250\n",
            "Epoch 16/38\n",
            "5/5 [==============================] - 65s 13s/step - loss: 2.5599 - accuracy: 0.3000 - val_loss: 2.0701 - val_accuracy: 0.0000e+00\n",
            "Epoch 17/38\n",
            "5/5 [==============================] - 68s 14s/step - loss: 3.1969 - accuracy: 0.2500 - val_loss: 2.0710 - val_accuracy: 0.6250\n",
            "Epoch 18/38\n",
            "5/5 [==============================] - 65s 13s/step - loss: 7.4312 - accuracy: 0.3000 - val_loss: 2.0646 - val_accuracy: 0.6250\n",
            "Epoch 19/38\n",
            "5/5 [==============================] - 65s 13s/step - loss: 6.4653 - accuracy: 0.1500 - val_loss: 3521.3628 - val_accuracy: 0.0000e+00\n",
            "Epoch 20/38\n",
            "5/5 [==============================] - 64s 13s/step - loss: 5.7267 - accuracy: 0.1000 - val_loss: 137529.7031 - val_accuracy: 0.0000e+00\n",
            "Epoch 21/38\n",
            "5/5 [==============================] - 65s 13s/step - loss: 10.6924 - accuracy: 0.2500 - val_loss: 5562573.0000 - val_accuracy: 0.0000e+00\n",
            "Epoch 22/38\n",
            "5/5 [==============================] - 65s 13s/step - loss: 7.5455 - accuracy: 0.2000 - val_loss: 154493.3438 - val_accuracy: 0.0000e+00\n",
            "Epoch 23/38\n",
            "5/5 [==============================] - 65s 13s/step - loss: 6.8282 - accuracy: 0.0000e+00 - val_loss: 2.0636 - val_accuracy: 0.6250\n",
            "Epoch 24/38\n",
            "5/5 [==============================] - 65s 13s/step - loss: 6.6179 - accuracy: 0.1500 - val_loss: 2.0640 - val_accuracy: 0.6250\n",
            "Epoch 25/38\n",
            "5/5 [==============================] - 65s 13s/step - loss: 7.4124 - accuracy: 0.0000e+00 - val_loss: 2.0700 - val_accuracy: 0.5000\n",
            "Epoch 26/38\n",
            "5/5 [==============================] - 65s 13s/step - loss: 7.0153 - accuracy: 0.0500 - val_loss: 2.0671 - val_accuracy: 0.6250\n",
            "Epoch 27/38\n",
            "5/5 [==============================] - 65s 13s/step - loss: 2.7017 - accuracy: 0.0500 - val_loss: 2.0737 - val_accuracy: 0.6250\n",
            "Epoch 28/38\n",
            "5/5 [==============================] - 65s 13s/step - loss: 14.5244 - accuracy: 0.1500 - val_loss: 89591.3594 - val_accuracy: 0.0000e+00\n",
            "Epoch 29/38\n",
            "5/5 [==============================] - 65s 13s/step - loss: 7.8398 - accuracy: 0.2000 - val_loss: 30008.3398 - val_accuracy: 0.0000e+00\n",
            "Epoch 30/38\n",
            "5/5 [==============================] - 69s 14s/step - loss: 6.5173 - accuracy: 0.1500 - val_loss: 2731.1934 - val_accuracy: 0.0000e+00\n",
            "Epoch 31/38\n",
            "5/5 [==============================] - 65s 13s/step - loss: 8.1369 - accuracy: 0.0500 - val_loss: 168.3466 - val_accuracy: 0.0000e+00\n",
            "Epoch 32/38\n",
            "5/5 [==============================] - 65s 13s/step - loss: 5.0158 - accuracy: 0.4000 - val_loss: 2.0991 - val_accuracy: 0.0000e+00\n",
            "Epoch 33/38\n",
            "5/5 [==============================] - 65s 13s/step - loss: 4.3222 - accuracy: 0.1500 - val_loss: 2.0980 - val_accuracy: 0.0000e+00\n",
            "Epoch 34/38\n",
            "5/5 [==============================] - 65s 13s/step - loss: 7.5485 - accuracy: 0.0000e+00 - val_loss: 2.1103 - val_accuracy: 0.0000e+00\n",
            "Epoch 35/38\n",
            "5/5 [==============================] - 66s 13s/step - loss: 6.7210 - accuracy: 0.1500 - val_loss: 2.1062 - val_accuracy: 0.0000e+00\n",
            "Epoch 36/38\n",
            "5/5 [==============================] - 65s 13s/step - loss: 5.8773 - accuracy: 0.0500 - val_loss: 2.1105 - val_accuracy: 0.0000e+00\n",
            "Epoch 37/38\n",
            "5/5 [==============================] - 65s 13s/step - loss: 4.0006 - accuracy: 0.1500 - val_loss: 2.1245 - val_accuracy: 0.0000e+00\n",
            "Epoch 38/38\n",
            "5/5 [==============================] - 70s 14s/step - loss: 12.4285 - accuracy: 0.1500 - val_loss: 2.1299 - val_accuracy: 0.0000e+00\n"
          ]
        }
      ],
      "source": [
        "\n",
        "# initialize our number of epochs, initial learning rate, and batch\n",
        "# size\n",
        "NUM_EPOCHS = 38\n",
        "INIT_LR = 1e-2\n",
        "BS = 16\n",
        "\n",
        "'''\n",
        "# initialize the training generator\n",
        "trainGen = trainAug.flow_from_directory(\n",
        "\t\"/content/drive/My Drive/BreaKHis2_8_trial/BreaKHis8_train/\",\n",
        "\tclass_mode=\"categorical\",\n",
        "\ttarget_size=(230, 230),\n",
        "\tcolor_mode=\"rgb\",\n",
        "\tshuffle=True,\n",
        "\tbatch_size=BS)\n",
        "\n",
        "# initialize the validation generator\n",
        "valGen = valAug.flow_from_directory(\n",
        "\t\"/content/drive/My Drive/BreaKHis2_8_trial/BreaKHis8_val/\",\n",
        "\tclass_mode=\"categorical\",\n",
        "\ttarget_size=(230, 230),\n",
        "\tcolor_mode=\"rgb\",\n",
        "\tshuffle=False,\n",
        "\tbatch_size=BS )\n",
        "\n",
        "# initialize the testing generator\n",
        "testGen = valAug.flow_from_directory(\n",
        "\t\"/content/drive/My Drive/BreaKHis2_8_trial/BreaKHis8_test/\",\n",
        "\tclass_mode=\"categorical\",\n",
        "\ttarget_size=(230, 230),\n",
        "\tcolor_mode=\"rgb\",\n",
        "\tshuffle=False,\n",
        "\tbatch_size=BS)\n",
        "  '''\n",
        "\n",
        "# initialize our CancerNet model and compile it\n",
        "\n",
        "#opt = Adagrad(lr=INIT_LR, decay=INIT_LR / NUM_EPOCHS)\n",
        "#opt= Ranger(params=CancerNet.parameters(), lr=1e-3, alpha=0.5, k=6, N_sma_threshhold=5, betas=(.95,0.999), eps=1e-5, weight_decay=0)\n",
        "#opt = optimizers.SGD(lr=0.01, decay=1e-6, momentum=0.9, nesterov=True)\n",
        "#opt = optimizers.RMSprop(lr=0.001, rho=0.9, epsilon=0.5, decay=INIT_LR / NUM_EPOCHS)\n",
        "#opt = optimizers.Adam(lr=0.001, beta_1=0.9, beta_2=0.999, epsilon=1e-08, decay=0)\n",
        "#opt = optimizers.Adadelta(lr=0.01, rho=0.95, epsilon=0.05, decay=1e-2)\n",
        "#opt = optimizers.Adamax(lr=0.001, beta_1=0.9, beta_2=0.999, epsilon=1e-08, decay=0.0)\n",
        "opt = tf.keras.optimizers.Nadam(lr=0.002, beta_1=0.9, beta_2=0.999, epsilon=1e-08, schedule_decay=0.004)\n",
        "ensemble_model.compile(loss=\"categorical_crossentropy\", optimizer=opt,\n",
        "\tmetrics=[\"accuracy\"])\n",
        "\n",
        "\n",
        "\n",
        "# 绘制训练过程中的损失曲线和精度曲线\n",
        "\n",
        "\n",
        "\n",
        "\n",
        "H = ensemble_model.fit_generator(\n",
        "\ttrain_generator,\n",
        "\tsteps_per_epoch=80 // BS,\n",
        "\tvalidation_data=valid_generator,\n",
        "\tvalidation_steps=40 // BS,\n",
        "\tclass_weight=class_weight, #{0: 9, 1: 4, 2: 9,3:6, 4: 1, 5: 6,6: 4.5, 7: 7}\n",
        "\tepochs=NUM_EPOCHS)\n",
        "\n",
        "# reset the testing generator and then use our trained model to\n",
        "# make predictions on the data\n"
      ]
    },
    {
      "cell_type": "code",
      "execution_count": null,
      "metadata": {
        "id": "UAR1XO0SJ1lx"
      },
      "outputs": [],
      "source": [
        "\n",
        "\n",
        "# for each image in the testing set we need to find the index of the\n",
        "# label with corresponding largest predicted probability\n",
        "# label with corresponding largest predicted probability\n",
        "ensemble_model.save(\"/content/drive/My Drive/BreaKHis2_8_trial/BreaKHis8_test/zuhe.h5\")\n"
      ]
    },
    {
      "cell_type": "code",
      "execution_count": null,
      "metadata": {
        "colab": {
          "base_uri": "https://localhost:8080/"
        },
        "id": "wjpS-FfLeV2a",
        "outputId": "2ab8ce42-d37d-45f6-c0d6-e437de21b81d"
      },
      "outputs": [
        {
          "name": "stdout",
          "output_type": "stream",
          "text": [
            "[INFO] evaluating network...\n",
            "[[  0   0  98   0   0   0   0   0]\n",
            " [  0   0 238   0   0   0   0   0]\n",
            " [  0   0  94   0   0   0   0   0]\n",
            " [  0   0 132   0   0   0   0   0]\n",
            " [  0   0 857   0   0   0   0   0]\n",
            " [  0   0 140   0   0   0   0   0]\n",
            " [  0   0 188   0   0   0   0   0]\n",
            " [  0   0 129   0   0   0   0   0]]\n",
            "                              precision    recall  f1-score   support\n",
            "\n",
            "             benign_adenosis     0.0000    0.0000    0.0000        98\n",
            "         benign_fibroadenoma     0.0000    0.0000    0.0000       238\n",
            "       benign_phyllodestumor     0.0501    1.0000    0.0954        94\n",
            "       benign_tubularadenoma     0.0000    0.0000    0.0000       132\n",
            "   malignant_ductalcarcinoma     0.0000    0.0000    0.0000       857\n",
            "  malignant_lobularcarcinoma     0.0000    0.0000    0.0000       140\n",
            " malignant_mucinouscarcinoma     0.0000    0.0000    0.0000       188\n",
            "malignant_papillarycarcinoma     0.0000    0.0000    0.0000       129\n",
            "\n",
            "                    accuracy                         0.0501      1876\n",
            "                   macro avg     0.0063    0.1250    0.0119      1876\n",
            "                weighted avg     0.0025    0.0501    0.0048      1876\n",
            "\n"
          ]
        }
      ],
      "source": [
        "print(\"[INFO] evaluating network...\")\n",
        "testGen.reset()\n",
        "predIdxs = ensemble_model.predict_generator(testGen)\n",
        "predIdxs = np.argmax(predIdxs, axis=1)\n",
        "print(confusion_matrix(testGen.classes, predIdxs))\n",
        "# show a nicely formatted classification report\n",
        "print(classification_report(testGen.classes, predIdxs,\n",
        "\ttarget_names=testGen.class_indices.keys(), digits=4))\n"
      ]
    },
    {
      "cell_type": "code",
      "execution_count": null,
      "metadata": {
        "colab": {
          "base_uri": "https://localhost:8080/",
          "height": 779
        },
        "id": "FptAe_noQaFq",
        "outputId": "f0967044-23d1-4327-a21f-bc687dfc6a0c"
      },
      "outputs": [
        {
          "data": {
            "image/png": "[encoded data removed]",
            "text/plain": [
              "<Figure size 432x288 with 1 Axes>"
            ]
          },
          "metadata": {},
          "output_type": "display_data"
        },
        {
          "data": {
            "image/png": "[encoded data removed]",
            "text/plain": [
              "<Figure size 576x576 with 2 Axes>"
            ]
          },
          "metadata": {},
          "output_type": "display_data"
        }
      ],
      "source": [
        "\n",
        "# compute the confusion matrix and and use it to derive the raw\n",
        "# accuracy, sensitivity, and specificity\n",
        "\n",
        "\n",
        "import matplotlib.pyplot as plt\n",
        "\n",
        "acc = H.history['accuracy']\n",
        "val_acc = H.history['val_accuracy']\n",
        "loss = H.history['loss']\n",
        "val_loss = H.history['val_loss']\n",
        "\n",
        "epochs = range(1, len(acc) + 1)\n",
        "\n",
        "plt.plot(epochs, acc, 'b:', label='Training acc')\n",
        "plt.plot(epochs, val_acc, 'r', label='Validation acc')\n",
        "plt.plot(epochs, loss, 'b--', label='Training loss')\n",
        "plt.plot(epochs, val_loss, 'r-.', label='Validation loss')\n",
        "plt.title('Training Loss and Accuracy on Dataset')\n",
        "plt.xlabel(\"Epoch #\")\n",
        "plt.ylabel(\"Loss/Accuracy\")\n",
        "plt.legend()\n",
        "\n",
        "\n",
        "\n",
        "\n",
        "# === 混淆矩阵：真实值与预测值的对比 ===\n",
        "# https://scikit-learn.org/stable/auto_examples/model_selection/plot_confusion_matrix.html\n",
        "con_mat = confusion_matrix(testGen.classes, predIdxs)\n",
        "\n",
        "con_mat_norm = con_mat.astype('float') / con_mat.sum(axis=1)[:, np.newaxis]     # 归一化\n",
        "\n",
        "con_mat_norm = np.around(con_mat_norm, decimals=4)\n",
        "\n",
        "# === plot ===\n",
        "plt.figure(figsize=(8, 8))\n",
        "sns.heatmap(con_mat_norm, annot=True, cmap='Blues')\n",
        "\n",
        "plt.ylim(0, 8)\n",
        "plt.xlabel('Predicted labels')\n",
        "plt.ylabel('True labels')\n",
        "\n",
        "\n",
        "plt.show()"
      ]
    },
    {
      "cell_type": "code",
      "execution_count": null,
      "metadata": {
        "id": "H-wsiXnqe90S"
      },
      "outputs": [],
      "source": [
        "preds = ensemble_model.predict_generator(testGen)"
      ]
    },
    {
      "cell_type": "code",
      "execution_count": null,
      "metadata": {
        "colab": {
          "base_uri": "https://localhost:8080/"
        },
        "id": "dvtt4ZTq5sAc",
        "outputId": "2408981d-4b8f-4704-8448-a9e818789f56"
      },
      "outputs": [
        {
          "name": "stdout",
          "output_type": "stream",
          "text": [
            "macro - ovo ROC AUC Score:  0.5\n",
            "\n",
            "weighted - ovo ROC AUC Score:  0.5\n",
            "\n",
            "macro - ovr ROC AUC Score:  0.5\n",
            "\n",
            "weighted - ovr ROC AUC Score:  0.5\n",
            "\n"
          ]
        }
      ],
      "source": [
        "import pandas as pd\n",
        "from sklearn.preprocessing import OrdinalEncoder, LabelEncoder\n",
        "from sklearn.metrics import roc_curve, roc_auc_score\n",
        "#roc auc score\n",
        "scr1 = roc_auc_score(testGen.classes, preds, multi_class='ovo', average='macro')\n",
        "scr3 = roc_auc_score(testGen.classes, preds, multi_class='ovr', average='macro')\n",
        "scr2 = roc_auc_score(testGen.classes, preds, multi_class='ovo', average='weighted')\n",
        "scr4 = roc_auc_score(testGen.classes, preds, multi_class='ovr', average='weighted')\n",
        "\n",
        "\n",
        "print(\"macro - ovo ROC AUC Score: \", scr1)\n",
        "print(\"\")\n",
        "\n",
        "print(\"weighted - ovo ROC AUC Score: \", scr2)\n",
        "print(\"\")\n",
        "\n",
        "print(\"macro - ovr ROC AUC Score: \", scr3)\n",
        "print(\"\")\n",
        "\n",
        "print(\"weighted - ovr ROC AUC Score: \", scr4)\n",
        "print(\"\")"
      ]
    },
    {
      "cell_type": "code",
      "execution_count": null,
      "metadata": {
        "colab": {
          "base_uri": "https://localhost:8080/",
          "height": 434
        },
        "id": "DN4OVI-s7I2e",
        "outputId": "310b04ba-7af5-401b-b2cd-e17c11c58fe2"
      },
      "outputs": [
        {
          "name": "stdout",
          "output_type": "stream",
          "text": [
            "class 0 - A  : --AUC---> 0.5\n",
            "class 1 - F  : --AUC---> 0.5\n",
            "class 2 - PT  : --AUC---> 0.5\n",
            "class 3 - TA  : --AUC---> 0.5\n",
            "class 4 - DC  : --AUC---> 0.5\n",
            "class 5 - LC  : --AUC---> 0.5\n",
            "class 6 - MC  : --AUC---> 0.5\n",
            "class 7 - PC  : --AUC---> 0.5\n"
          ]
        },
        {
          "data": {
            "image/png": "[encoded data removed]",
            "text/plain": [
              "<Figure size 432x288 with 1 Axes>"
            ]
          },
          "metadata": {},
          "output_type": "display_data"
        }
      ],
      "source": [
        "# roc curve for classes\n",
        "fpr = {}\n",
        "tpr = {}\n",
        "thresh ={}\n",
        "\n",
        "target_names = ['A', 'F', 'PT', 'TA', 'DC','LC', 'MC', 'PC']\n",
        "n_class = 8\n",
        "\n",
        "for i in range(len(target_names)):\n",
        "    fpr[i], tpr[i], thresh[i] = roc_curve(testGen.classes, predIdxs[:], pos_label=i)\n",
        "    auroc = round(metrics.auc(fpr[i], tpr[i]),2)\n",
        "    print('class',i,'-', target_names[i],' :','--AUC--->',auroc)\n",
        "\n",
        "# plotting\n",
        "plt.plot(fpr[0], tpr[0], linestyle='--',color='orange', label='Class 0-A: vs Rest')\n",
        "plt.plot(fpr[1], tpr[1], linestyle='--',color='green', label='Class 1- F: vs Rest')\n",
        "plt.plot(fpr[2], tpr[2], linestyle='--',color='blue', label='Class 2- PT: vs Rest')\n",
        "plt.plot(fpr[3], tpr[3], linestyle='--',color='yellow', label='Class 3- TA: vs Rest')\n",
        "plt.plot(fpr[4], tpr[4], linestyle='-',color='orange', label='Class 4-DC vs Rest')\n",
        "plt.plot(fpr[5], tpr[5], linestyle='-',color='green', label='Class 5-LC: vs Rest')\n",
        "plt.plot(fpr[6], tpr[6], linestyle='-',color='blue', label='Class 6-MC: vs Rest')\n",
        "plt.plot(fpr[7], tpr[7], linestyle='-',color='yellow', label='Class 7- LC: vs Rest')\n",
        "\n",
        "\n",
        "plt.title('Multiclass ROC-AUC curve')\n",
        "plt.xlabel('False Positive Rate')\n",
        "plt.ylabel('True Positive rate')\n",
        "plt.legend(loc='best')\n",
        "plt.savefig('Multilass ROC',dpi=300, bbox_inches='tight',   pad_inches = 0);\n",
        "\n",
        "\n",
        "plt.show()"
      ]
    },
    {
      "cell_type": "code",
      "execution_count": null,
      "metadata": {
        "colab": {
          "base_uri": "https://localhost:8080/"
        },
        "id": "8p4aiOm-6vKG",
        "outputId": "020826b8-58da-434a-e1b5-b2a2367b064c"
      },
      "outputs": [
        {
          "name": "stdout",
          "output_type": "stream",
          "text": [
            "0.050106609808102345\n"
          ]
        }
      ],
      "source": [
        "import sklearn\n",
        "acc = sklearn.metrics.accuracy_score(testGen.classes, predIdxs)\n",
        "print(acc)"
      ]
    },
    {
      "cell_type": "code",
      "execution_count": null,
      "metadata": {
        "id": "AkiUUN8-5ge3"
      },
      "outputs": [],
      "source": [
        "\"\"\"\n",
        "# determine the total number of image paths in training, validation,\n",
        "# and testing directories\n",
        "trainPaths = list(paths.list_images(\"/content/drive/My Drive/BreaKHis2_8_trial/BreaKHis8_train/\"))\n",
        "totalTrain = len(trainPaths)\n",
        "totalVal = len(list(paths.list_images(\"/content/drive/My Drive/BreaKHis2_8_trial/BreaKHis8_val/\")))\n",
        "1876 = len(list(paths.list_images(\"/content/drive/My Drive/BreaKHis2_8_trial/BreaKHis8_test/\")))\n",
        "\n",
        "# account for skew in the labeled data\n",
        "trainLabels = [int(p.split(os.path.sep)[-2]) for p in trainPaths]\n",
        "trainLabels = np_utils.to_categorical(trainLabels)\n",
        "classTotals = trainLabels.sum(axis=0)\n",
        "classWeight = classTotals.max // classTotals\n",
        "\n",
        "# initialize the training training data augmentation object\n",
        "trainAug = ImageDataGenerator(\n",
        "\trescale=1 / 255.0,\n",
        "\trotation_range=20,\n",
        "\tzoom_range=0.05,\n",
        "\twidth_shift_range=0.1,\n",
        "\theight_shift_range=0.1,\n",
        "\tshear_range=0.05,\n",
        "\thorizontal_flip=True,\n",
        "\tvertical_flip=True,\n",
        "\tfill_mode=\"nearest\")\n",
        "\n",
        "# initialize the validation (and testing) data augmentation object\n",
        "valAug = ImageDataGenerator(rescale=1 / 255.0)\n",
        "\"\"\""
      ]
    },
    {
      "cell_type": "markdown",
      "metadata": {
        "id": "w1ispG0t73t3"
      },
      "source": [
        "# Part B: Adding"
      ]
    },
    {
      "cell_type": "code",
      "execution_count": null,
      "metadata": {
        "colab": {
          "base_uri": "https://localhost:8080/"
        },
        "id": "XatZbI6y78yu",
        "outputId": "b59e6029-7ff4-4aa2-d2d2-0b96b5e748bd"
      },
      "outputs": [
        {
          "name": "stdout",
          "output_type": "stream",
          "text": [
            "Downloading data from https://storage.googleapis.com/tensorflow/keras-applications/resnet/resnet50_weights_tf_dim_ordering_tf_kernels_notop.h5\n",
            "94773248/94765736 [==============================] - 2s 0us/step\n",
            "94781440/94765736 [==============================] - 2s 0us/step\n",
            "Downloading data from https://storage.googleapis.com/tensorflow/keras-applications/vgg16/vgg16_weights_tf_dim_ordering_tf_kernels_notop.h5\n",
            "58892288/58889256 [==============================] - 2s 0us/step\n",
            "58900480/58889256 [==============================] - 2s 0us/step\n"
          ]
        }
      ],
      "source": [
        "chanDim=-1\n",
        "\n",
        "def resnet500(model_input):\n",
        "    base_model = ResNet50(weights='imagenet', include_top=False, input_tensor=model_input)\n",
        "    last = base_model.output\n",
        "    x = layers.Flatten()(last)\n",
        "    x = Dense(256, activation='relu')(x)\n",
        "    preds = Dense(8, activation='softmax')(x)\n",
        "    model = Model(base_model.input, preds)\n",
        "\n",
        "    base_model.trainable = True\n",
        "    set_trainable = False\n",
        "    for layer in base_model.layers:\n",
        "        if layer.name == 'add_30': # 从这一层开始往后均可训练\n",
        "            set_trainable = True\n",
        "            if set_trainable:\n",
        "                layer.trainable = True\n",
        "            else:\n",
        "                layer.trainable = False\n",
        "\n",
        "    return model\n",
        "\n",
        "def vgg166(model_input):\n",
        "    base_model = VGG16(weights='imagenet', include_top=False, input_tensor=model_input)\n",
        "    last = base_model.output\n",
        "    x = layers.Flatten()(last)\n",
        "    x = Dense(256, activation='relu')(x)\n",
        "    preds = Dense(8, activation='softmax')(x)\n",
        "    model = Model(base_model.input, preds)\n",
        "\n",
        "    base_model.trainable = True\n",
        "    set_trainable = False\n",
        "    for layer in base_model.layers:\n",
        "        if layer.name == 'block5_conv1': # 从这一层开始往后均可训练\n",
        "            set_trainable = True\n",
        "            if set_trainable:\n",
        "                layer.trainable = True\n",
        "            else:\n",
        "                layer.trainable = False\n",
        "\n",
        "    return model\n",
        "\n",
        "model_input = Input(shape=(230, 230, 3))\n",
        "\n",
        "\n",
        "model1 = resnet500(model_input)\n",
        "model2 = vgg166(model_input)\n",
        "\n",
        "ensembled_models = [model1,model2]\n",
        "def ensemble(models,model_input):\n",
        "    outputs = [model.outputs[0] for model in models]\n",
        "    y = Average()(outputs)\n",
        "    model = Model(model_input,y,name='ensemble')\n",
        "    return model\n",
        "\n",
        "\n",
        "ensemble_model = ensemble(ensembled_models,model_input)"
      ]
    },
    {
      "cell_type": "code",
      "execution_count": null,
      "metadata": {
        "id": "H1gNbIwT98GV"
      },
      "outputs": [],
      "source": [
        "import numpy as np\n",
        "from sklearn.utils.class_weight import compute_class_weight\n",
        "from sklearn.preprocessing import MultiLabelBinarizer\n",
        "\n",
        "\n",
        "def generate_class_weights(class_series, multi_class=True, one_hot_encoded=False):\n",
        "  \"\"\"\n",
        "  Method to generate class weights given a set of multi-class or multi-label labels, both one-hot-encoded or not.\n",
        "  Some examples of different formats of class_series and their outputs are:\n",
        "    - generate_class_weights(['mango', 'lemon', 'banana', 'mango'], multi_class=True, one_hot_encoded=False)\n",
        "    {'banana': 1.3333333333333333, 'lemon': 1.3333333333333333, 'mango': 0.6666666666666666}\n",
        "    - generate_class_weights([[1, 0, 0], [0, 1, 0], [0, 0, 1], [1, 0, 0]], multi_class=True, one_hot_encoded=True)\n",
        "    {0: 0.6666666666666666, 1: 1.3333333333333333, 2: 1.3333333333333333}\n",
        "    - generate_class_weights([['mango', 'lemon'], ['mango'], ['lemon', 'banana'], ['lemon']], multi_class=False, one_hot_encoded=False)\n",
        "    {'banana': 1.3333333333333333, 'lemon': 0.4444444444444444, 'mango': 0.6666666666666666}\n",
        "    - generate_class_weights([[0, 1, 1], [0, 0, 1], [1, 1, 0], [0, 1, 0]], multi_class=False, one_hot_encoded=True)\n",
        "    {0: 1.3333333333333333, 1: 0.4444444444444444, 2: 0.6666666666666666}\n",
        "  The output is a dictionary in the format { class_label: class_weight }. In case the input is one hot encoded, the class_label would be index\n",
        "  of appareance of the label when the dataset was processed.\n",
        "  In multi_class this is np.unique(class_series) and in multi-label np.unique(np.concatenate(class_series)).\n",
        "  Author: Angel Igareta (angel@igareta.com)\n",
        "  \"\"\"\n",
        "  if multi_class:\n",
        "    # If class is one hot encoded, transform to categorical labels to use compute_class_weight\n",
        "    if one_hot_encoded:\n",
        "      class_series = np.argmax(class_series, axis=1)\n",
        "\n",
        "    # Compute class weights with sklearn method\n",
        "    class_labels = np.unique(class_series)\n",
        "    class_weights = compute_class_weight(class_weight='balanced', classes=class_labels, y=class_series)\n",
        "    return dict(zip(class_labels, class_weights))\n",
        "  else:\n",
        "    # It is neccessary that the multi-label values are one-hot encoded\n",
        "    mlb = None\n",
        "    if not one_hot_encoded:\n",
        "      mlb = MultiLabelBinarizer()\n",
        "      class_series = mlb.fit_transform(class_series)\n",
        "\n",
        "    n_samples = len(class_series)\n",
        "    n_classes = len(class_series[0])\n",
        "\n",
        "    # Count each class frequency\n",
        "    class_count = [0] * n_classes\n",
        "    for classes in class_series:\n",
        "        for index in range(n_classes):\n",
        "            if classes[index] != 0:\n",
        "                class_count[index] += 1\n",
        "\n",
        "    # Compute class weights using balanced method\n",
        "    class_weights = [n_samples / (n_classes * freq) if freq > 0 else 1 for freq in class_count]\n",
        "    class_labels = range(len(class_weights)) if mlb is None else mlb.classes_\n",
        "    return dict(zip(class_labels, class_weights))"
      ]
    },
    {
      "cell_type": "code",
      "execution_count": null,
      "metadata": {
        "colab": {
          "base_uri": "https://localhost:8080/"
        },
        "id": "mZotWOAPATB_",
        "outputId": "49007911-bcc0-4f9f-d12e-02a372c45bc6"
      },
      "outputs": [
        {
          "name": "stdout",
          "output_type": "stream",
          "text": [
            "{0: 2.392857142857143, 1: 0.9852941176470589, 2: 2.49468085106383, 3: 1.7765151515151516, 4: 0.2736289381563594, 5: 1.675, 6: 1.247340425531915, 7: 1.817829457364341}\n"
          ]
        }
      ],
      "source": [
        "class_weight = generate_class_weights(testGen.classes)\n",
        "print(class_weight)"
      ]
    },
    {
      "cell_type": "code",
      "execution_count": null,
      "metadata": {
        "colab": {
          "base_uri": "https://localhost:8080/"
        },
        "id": "RlvUAEUd-VLl",
        "outputId": "8609d90c-909c-45f4-c143-7e556f38af48"
      },
      "outputs": [
        {
          "name": "stdout",
          "output_type": "stream",
          "text": [
            "Epoch 1/60\n",
            "5/5 [==============================] - 95s 13s/step - loss: 6.8582 - accuracy: 0.0000e+00 - val_loss: 3.6284 - val_accuracy: 0.0000e+00\n",
            "Epoch 2/60\n",
            "5/5 [==============================] - 64s 13s/step - loss: 4.6549 - accuracy: 0.2000 - val_loss: 4.7410 - val_accuracy: 0.0000e+00\n",
            "Epoch 3/60\n",
            "5/5 [==============================] - 62s 13s/step - loss: 5.2121 - accuracy: 0.0000e+00 - val_loss: 2.9620 - val_accuracy: 0.0000e+00\n",
            "Epoch 4/60\n",
            "5/5 [==============================] - 61s 12s/step - loss: 3.3262 - accuracy: 0.0000e+00 - val_loss: 2.6941 - val_accuracy: 0.0000e+00\n",
            "Epoch 5/60\n",
            "5/5 [==============================] - 60s 12s/step - loss: 4.1555 - accuracy: 0.0000e+00 - val_loss: 2.6192 - val_accuracy: 0.0000e+00\n",
            "Epoch 6/60\n",
            "5/5 [==============================] - 60s 12s/step - loss: 4.3512 - accuracy: 0.0000e+00 - val_loss: 2.5916 - val_accuracy: 0.0000e+00\n",
            "Epoch 7/60\n",
            "5/5 [==============================] - 60s 12s/step - loss: 4.7361 - accuracy: 0.0000e+00 - val_loss: 2.2797 - val_accuracy: 0.0000e+00\n",
            "Epoch 8/60\n",
            "5/5 [==============================] - 60s 12s/step - loss: 4.0194 - accuracy: 0.4000 - val_loss: 2.4322 - val_accuracy: 0.0000e+00\n",
            "Epoch 9/60\n",
            "5/5 [==============================] - 60s 12s/step - loss: 5.3050 - accuracy: 0.0000e+00 - val_loss: 2.3598 - val_accuracy: 0.0000e+00\n",
            "Epoch 10/60\n",
            "5/5 [==============================] - 60s 12s/step - loss: 3.0117 - accuracy: 0.0000e+00 - val_loss: 2.9897 - val_accuracy: 0.0000e+00\n",
            "Epoch 11/60\n",
            "5/5 [==============================] - 60s 12s/step - loss: 4.5964 - accuracy: 0.2000 - val_loss: 2.7854 - val_accuracy: 0.0000e+00\n",
            "Epoch 12/60\n",
            "5/5 [==============================] - 60s 12s/step - loss: 3.6928 - accuracy: 0.2000 - val_loss: 2.0216 - val_accuracy: 0.0000e+00\n",
            "Epoch 13/60\n",
            "5/5 [==============================] - 61s 12s/step - loss: 3.8315 - accuracy: 0.0000e+00 - val_loss: 2.4453 - val_accuracy: 0.0000e+00\n",
            "Epoch 14/60\n",
            "5/5 [==============================] - 60s 12s/step - loss: 2.1076 - accuracy: 0.0000e+00 - val_loss: 2.4520 - val_accuracy: 0.0000e+00\n",
            "Epoch 15/60\n",
            "5/5 [==============================] - 61s 12s/step - loss: 4.5794 - accuracy: 0.0000e+00 - val_loss: 2.3966 - val_accuracy: 0.0000e+00\n",
            "Epoch 16/60\n",
            "5/5 [==============================] - 62s 12s/step - loss: 2.6354 - accuracy: 0.4000 - val_loss: 2.4771 - val_accuracy: 0.0000e+00\n",
            "Epoch 17/60\n",
            "5/5 [==============================] - 62s 12s/step - loss: 4.7738 - accuracy: 0.0000e+00 - val_loss: 2.5912 - val_accuracy: 0.0000e+00\n",
            "Epoch 18/60\n",
            "5/5 [==============================] - 61s 12s/step - loss: 3.4505 - accuracy: 0.2000 - val_loss: 2.5808 - val_accuracy: 0.0000e+00\n",
            "Epoch 19/60\n",
            "5/5 [==============================] - 62s 13s/step - loss: 3.8411 - accuracy: 0.2000 - val_loss: 2.6364 - val_accuracy: 0.0000e+00\n",
            "Epoch 20/60\n",
            "5/5 [==============================] - 62s 13s/step - loss: 3.9349 - accuracy: 0.0000e+00 - val_loss: 2.6709 - val_accuracy: 0.0000e+00\n",
            "Epoch 21/60\n",
            "5/5 [==============================] - 61s 13s/step - loss: 4.9890 - accuracy: 0.0000e+00 - val_loss: 2.6239 - val_accuracy: 0.0000e+00\n",
            "Epoch 22/60\n",
            "5/5 [==============================] - 61s 13s/step - loss: 3.9920 - accuracy: 0.0000e+00 - val_loss: 2.4725 - val_accuracy: 0.0000e+00\n",
            "Epoch 23/60\n",
            "5/5 [==============================] - 61s 12s/step - loss: 4.1509 - accuracy: 0.0500 - val_loss: 2.2877 - val_accuracy: 0.0000e+00\n",
            "Epoch 24/60\n",
            "5/5 [==============================] - 61s 13s/step - loss: 4.1583 - accuracy: 0.0000e+00 - val_loss: 2.4801 - val_accuracy: 0.0000e+00\n",
            "Epoch 25/60\n",
            "5/5 [==============================] - 61s 12s/step - loss: 1.5204 - accuracy: 0.6000 - val_loss: 2.4805 - val_accuracy: 0.0000e+00\n",
            "Epoch 26/60\n",
            "5/5 [==============================] - 61s 12s/step - loss: 5.3284 - accuracy: 0.0000e+00 - val_loss: 2.4853 - val_accuracy: 0.0000e+00\n",
            "Epoch 27/60\n",
            "5/5 [==============================] - 61s 12s/step - loss: 4.0622 - accuracy: 0.0000e+00 - val_loss: 2.5123 - val_accuracy: 0.0000e+00\n",
            "Epoch 28/60\n",
            "5/5 [==============================] - 61s 12s/step - loss: 3.2824 - accuracy: 0.4000 - val_loss: 2.6171 - val_accuracy: 0.0000e+00\n",
            "Epoch 29/60\n",
            "5/5 [==============================] - 61s 12s/step - loss: 4.4179 - accuracy: 0.2000 - val_loss: 2.4045 - val_accuracy: 0.0000e+00\n",
            "Epoch 30/60\n",
            "5/5 [==============================] - 61s 12s/step - loss: 3.6135 - accuracy: 0.2000 - val_loss: 2.1773 - val_accuracy: 0.0000e+00\n",
            "Epoch 31/60\n",
            "5/5 [==============================] - 61s 12s/step - loss: 5.0903 - accuracy: 0.0000e+00 - val_loss: 2.5885 - val_accuracy: 0.0000e+00\n",
            "Epoch 32/60\n",
            "5/5 [==============================] - 61s 12s/step - loss: 3.6081 - accuracy: 0.2000 - val_loss: 2.6810 - val_accuracy: 0.0000e+00\n",
            "Epoch 33/60\n",
            "5/5 [==============================] - 61s 13s/step - loss: 2.7991 - accuracy: 0.0000e+00 - val_loss: 2.6683 - val_accuracy: 0.0000e+00\n",
            "Epoch 34/60\n",
            "5/5 [==============================] - 61s 13s/step - loss: 4.3594 - accuracy: 0.0000e+00 - val_loss: 2.6193 - val_accuracy: 0.0000e+00\n",
            "Epoch 35/60\n",
            "5/5 [==============================] - 61s 13s/step - loss: 2.8992 - accuracy: 0.2000 - val_loss: 2.7062 - val_accuracy: 0.0000e+00\n",
            "Epoch 36/60\n",
            "5/5 [==============================] - 61s 12s/step - loss: 4.1258 - accuracy: 0.0000e+00 - val_loss: 2.6872 - val_accuracy: 0.0000e+00\n",
            "Epoch 37/60\n",
            "5/5 [==============================] - 62s 12s/step - loss: 4.6943 - accuracy: 0.0000e+00 - val_loss: 2.3860 - val_accuracy: 0.0000e+00\n",
            "Epoch 38/60\n",
            "5/5 [==============================] - 61s 13s/step - loss: 1.8019 - accuracy: 0.4000 - val_loss: 2.4372 - val_accuracy: 0.0000e+00\n",
            "Epoch 39/60\n",
            "5/5 [==============================] - 62s 13s/step - loss: 5.3810 - accuracy: 0.0000e+00 - val_loss: 2.5887 - val_accuracy: 0.0000e+00\n",
            "Epoch 40/60\n",
            "5/5 [==============================] - 61s 13s/step - loss: 3.5091 - accuracy: 0.2000 - val_loss: 2.5703 - val_accuracy: 0.0000e+00\n",
            "Epoch 41/60\n",
            "5/5 [==============================] - 61s 13s/step - loss: 4.2803 - accuracy: 0.0000e+00 - val_loss: 2.3814 - val_accuracy: 0.0000e+00\n",
            "Epoch 42/60\n",
            "5/5 [==============================] - 62s 13s/step - loss: 4.7552 - accuracy: 0.0000e+00 - val_loss: 2.5899 - val_accuracy: 0.0000e+00\n",
            "Epoch 43/60\n",
            "5/5 [==============================] - 62s 13s/step - loss: 4.3992 - accuracy: 0.0000e+00 - val_loss: 2.5417 - val_accuracy: 0.0000e+00\n",
            "Epoch 44/60\n",
            "5/5 [==============================] - 62s 13s/step - loss: 4.1155 - accuracy: 0.0000e+00 - val_loss: 2.3622 - val_accuracy: 0.0000e+00\n",
            "Epoch 45/60\n",
            "5/5 [==============================] - 61s 13s/step - loss: 1.7520 - accuracy: 0.4000 - val_loss: 2.3802 - val_accuracy: 0.0000e+00\n",
            "Epoch 46/60\n",
            "5/5 [==============================] - 62s 13s/step - loss: 4.2229 - accuracy: 0.2000 - val_loss: 2.4911 - val_accuracy: 0.0000e+00\n",
            "Epoch 47/60\n",
            "5/5 [==============================] - 62s 13s/step - loss: 2.8661 - accuracy: 0.4000 - val_loss: 2.4735 - val_accuracy: 0.0000e+00\n",
            "Epoch 48/60\n",
            "5/5 [==============================] - 61s 13s/step - loss: 3.6864 - accuracy: 0.2000 - val_loss: 2.5534 - val_accuracy: 0.0000e+00\n",
            "Epoch 49/60\n",
            "5/5 [==============================] - 61s 13s/step - loss: 3.5902 - accuracy: 0.2000 - val_loss: 2.4018 - val_accuracy: 0.0000e+00\n",
            "Epoch 50/60\n",
            "5/5 [==============================] - 61s 13s/step - loss: 4.0725 - accuracy: 0.2000 - val_loss: 2.5828 - val_accuracy: 0.0000e+00\n",
            "Epoch 51/60\n",
            "5/5 [==============================] - 61s 13s/step - loss: 3.8693 - accuracy: 0.2000 - val_loss: 2.5414 - val_accuracy: 0.0000e+00\n",
            "Epoch 52/60\n",
            "5/5 [==============================] - 61s 12s/step - loss: 3.0024 - accuracy: 0.4000 - val_loss: 2.6420 - val_accuracy: 0.0000e+00\n",
            "Epoch 53/60\n",
            "5/5 [==============================] - 62s 12s/step - loss: 4.9114 - accuracy: 0.0000e+00 - val_loss: 2.7898 - val_accuracy: 0.0000e+00\n",
            "Epoch 54/60\n",
            "5/5 [==============================] - 61s 12s/step - loss: 3.6473 - accuracy: 0.2000 - val_loss: 2.8314 - val_accuracy: 0.0000e+00\n",
            "Epoch 55/60\n",
            "5/5 [==============================] - 61s 13s/step - loss: 3.4521 - accuracy: 0.2000 - val_loss: 2.9296 - val_accuracy: 0.0000e+00\n",
            "Epoch 56/60\n",
            "5/5 [==============================] - 61s 13s/step - loss: 3.6616 - accuracy: 0.0500 - val_loss: 3.0746 - val_accuracy: 0.0000e+00\n",
            "Epoch 57/60\n",
            "5/5 [==============================] - 61s 13s/step - loss: 4.1064 - accuracy: 0.2000 - val_loss: 2.7909 - val_accuracy: 0.0000e+00\n",
            "Epoch 58/60\n",
            "5/5 [==============================] - 62s 13s/step - loss: 4.2582 - accuracy: 0.2000 - val_loss: 2.7528 - val_accuracy: 0.0000e+00\n",
            "Epoch 59/60\n",
            "5/5 [==============================] - 62s 13s/step - loss: 4.4575 - accuracy: 0.0000e+00 - val_loss: 2.8952 - val_accuracy: 0.0000e+00\n",
            "Epoch 60/60\n",
            "5/5 [==============================] - 61s 13s/step - loss: 3.8934 - accuracy: 0.2000 - val_loss: 2.5358 - val_accuracy: 0.0000e+00\n"
          ]
        }
      ],
      "source": [
        "# initialize our number of epochs, initial learning rate, and batch\n",
        "# size\n",
        "NUM_EPOCHS = 60\n",
        "INIT_LR = 1e-2\n",
        "BS = 16\n",
        "\n",
        "\n",
        "# initialize our CancerNet model and compile it\n",
        "\n",
        "#opt = Adagrad(lr=INIT_LR, decay=INIT_LR / NUM_EPOCHS)\n",
        "#opt= Ranger(params=CancerNet.parameters(), lr=1e-3, alpha=0.5, k=6, N_sma_threshhold=5, betas=(.95,0.999), eps=1e-5, weight_decay=0)\n",
        "#opt = optimizers.SGD(lr=0.01, decay=1e-6, momentum=0.9, nesterov=True)\n",
        "opt = tf.keras.optimizers.RMSprop(lr=0.001, rho=0.9, epsilon=0.5, decay=INIT_LR / NUM_EPOCHS)\n",
        "#opt = optimizers.Adam(lr=0.001, beta_1=0.9, beta_2=0.999, epsilon=1e-08, decay=0)\n",
        "#opt = optimizers.Adadelta(lr=0.01, rho=0.95, epsilon=0.05, decay=1e-2)\n",
        "#opt = optimizers.Adamax(lr=0.001, beta_1=0.9, beta_2=0.999, epsilon=1e-08, decay=0.0)\n",
        "#opt = optimizers.Nadam(lr=0.002, beta_1=0.9, beta_2=0.999, epsilon=1e-08, schedule_decay=0.004)\n",
        "ensemble_model.compile(loss=\"categorical_crossentropy\", optimizer=opt,\n",
        "\tmetrics=[\"accuracy\"])\n",
        "\n",
        "\n",
        "\n",
        "# 绘制训练过程中的损失曲线和精度曲线\n",
        "\n",
        "\n",
        "\n",
        "\n",
        "H = ensemble_model.fit_generator(\n",
        "\ttrain_generator,\n",
        "\tsteps_per_epoch=80 // BS,\n",
        "\tvalidation_data=valid_generator,\n",
        "\tvalidation_steps=40 // BS,\n",
        "\tclass_weight=class_weight, #{0: 9, 1: 4, 2: 9,3:6, 4: 1, 5: 6,6: 4.5, 7: 7}\n",
        "\tepochs=NUM_EPOCHS)\n"
      ]
    },
    {
      "cell_type": "code",
      "execution_count": null,
      "metadata": {
        "id": "dIyK2W6k783N"
      },
      "outputs": [],
      "source": [
        "ensemble_model.save(\"/content/drive/My Drive/BreaKHis2_8_trial/BreaKHis8_test/zuhe2.h5\")\n"
      ]
    },
    {
      "cell_type": "code",
      "execution_count": null,
      "metadata": {
        "colab": {
          "base_uri": "https://localhost:8080/"
        },
        "id": "UUznOeRZ_KSS",
        "outputId": "288798a5-c546-4eda-8e61-42a9bcca2cee"
      },
      "outputs": [
        {
          "name": "stdout",
          "output_type": "stream",
          "text": [
            "[INFO] evaluating network...\n",
            "[[  0   0   0  98   0   0   0   0]\n",
            " [  0   0   0 238   0   0   0   0]\n",
            " [  0   0   0  94   0   0   0   0]\n",
            " [  0   0   0 132   0   0   0   0]\n",
            " [  0   0   0 857   0   0   0   0]\n",
            " [  0   0   0 140   0   0   0   0]\n",
            " [  0   0   0 188   0   0   0   0]\n",
            " [  0   0   0 129   0   0   0   0]]\n",
            "                              precision    recall  f1-score   support\n",
            "\n",
            "             benign_adenosis     0.0000    0.0000    0.0000        98\n",
            "         benign_fibroadenoma     0.0000    0.0000    0.0000       238\n",
            "       benign_phyllodestumor     0.0000    0.0000    0.0000        94\n",
            "       benign_tubularadenoma     0.0704    1.0000    0.1315       132\n",
            "   malignant_ductalcarcinoma     0.0000    0.0000    0.0000       857\n",
            "  malignant_lobularcarcinoma     0.0000    0.0000    0.0000       140\n",
            " malignant_mucinouscarcinoma     0.0000    0.0000    0.0000       188\n",
            "malignant_papillarycarcinoma     0.0000    0.0000    0.0000       129\n",
            "\n",
            "                    accuracy                         0.0704      1876\n",
            "                   macro avg     0.0088    0.1250    0.0164      1876\n",
            "                weighted avg     0.0050    0.0704    0.0093      1876\n",
            "\n"
          ]
        }
      ],
      "source": [
        "print(\"[INFO] evaluating network...\")\n",
        "testGen.reset()\n",
        "predIdxs = ensemble_model.predict_generator(testGen)\n",
        "predIdxs = np.argmax(predIdxs, axis=1)\n",
        "print(confusion_matrix(testGen.classes, predIdxs))\n",
        "# show a nicely formatted classification report\n",
        "print(classification_report(testGen.classes, predIdxs,\n",
        "\ttarget_names=testGen.class_indices.keys(), digits=4))"
      ]
    },
    {
      "cell_type": "code",
      "execution_count": null,
      "metadata": {
        "colab": {
          "base_uri": "https://localhost:8080/",
          "height": 779
        },
        "id": "-yConjnO_TWb",
        "outputId": "c16bcbf9-db9b-48f3-ada9-1881cea27465"
      },
      "outputs": [
        {
          "data": {
            "image/png": "[encoded data removed]",
            "text/plain": [
              "<Figure size 432x288 with 1 Axes>"
            ]
          },
          "metadata": {},
          "output_type": "display_data"
        },
        {
          "data": {
            "image/png": "[encoded data removed]",
            "text/plain": [
              "<Figure size 576x576 with 2 Axes>"
            ]
          },
          "metadata": {},
          "output_type": "display_data"
        }
      ],
      "source": [
        "\n",
        "# compute the confusion matrix and and use it to derive the raw\n",
        "# accuracy, sensitivity, and specificity\n",
        "\n",
        "\n",
        "import matplotlib.pyplot as plt\n",
        "\n",
        "acc = H.history['accuracy']\n",
        "val_acc = H.history['val_accuracy']\n",
        "loss = H.history['loss']\n",
        "val_loss = H.history['val_loss']\n",
        "\n",
        "epochs = range(1, len(acc) + 1)\n",
        "\n",
        "plt.plot(epochs, acc, 'b:', label='Training acc')\n",
        "plt.plot(epochs, val_acc, 'r', label='Validation acc')\n",
        "plt.plot(epochs, loss, 'b--', label='Training loss')\n",
        "plt.plot(epochs, val_loss, 'r-.', label='Validation loss')\n",
        "plt.title('Training Loss and Accuracy on Dataset')\n",
        "plt.xlabel(\"Epoch #\")\n",
        "plt.ylabel(\"Loss/Accuracy\")\n",
        "plt.legend()\n",
        "\n",
        "\n",
        "\n",
        "\n",
        "# === 混淆矩阵：真实值与预测值的对比 ===\n",
        "# https://scikit-learn.org/stable/auto_examples/model_selection/plot_confusion_matrix.html\n",
        "con_mat = confusion_matrix(testGen.classes, predIdxs)\n",
        "\n",
        "con_mat_norm = con_mat.astype('float') / con_mat.sum(axis=1)[:, np.newaxis]     # 归一化\n",
        "\n",
        "con_mat_norm = np.around(con_mat_norm, decimals=4)\n",
        "\n",
        "# === plot ===\n",
        "plt.figure(figsize=(8, 8))\n",
        "sns.heatmap(con_mat_norm, annot=True, cmap='Blues')\n",
        "\n",
        "plt.ylim(0, 8)\n",
        "plt.xlabel('Predicted labels')\n",
        "plt.ylabel('True labels')\n",
        "\n",
        "\n",
        "plt.show()"
      ]
    },
    {
      "cell_type": "code",
      "execution_count": null,
      "metadata": {
        "colab": {
          "background_save": true
        },
        "id": "0hVgoVhO_TWc"
      },
      "outputs": [],
      "source": [
        "preds = ensemble_model.predict_generator(testGen)"
      ]
    },
    {
      "cell_type": "code",
      "execution_count": null,
      "metadata": {
        "colab": {
          "background_save": true
        },
        "id": "DrsHNznN_TWc",
        "outputId": "10221db6-5889-475b-bed8-72c937bf204e"
      },
      "outputs": [
        {
          "name": "stdout",
          "output_type": "stream",
          "text": [
            "macro - ovo ROC AUC Score:  0.590806468296356\n",
            "\n",
            "weighted - ovo ROC AUC Score:  0.5975300795514648\n",
            "\n",
            "macro - ovr ROC AUC Score:  0.5789848521539396\n",
            "\n",
            "weighted - ovr ROC AUC Score:  0.6127243497242737\n",
            "\n"
          ]
        }
      ],
      "source": [
        "import pandas as pd\n",
        "from sklearn.preprocessing import OrdinalEncoder, LabelEncoder\n",
        "from sklearn.metrics import roc_curve, roc_auc_score\n",
        "#roc auc score\n",
        "scr1 = roc_auc_score(testGen.classes, preds, multi_class='ovo', average='macro')\n",
        "scr3 = roc_auc_score(testGen.classes, preds, multi_class='ovr', average='macro')\n",
        "scr2 = roc_auc_score(testGen.classes, preds, multi_class='ovo', average='weighted')\n",
        "scr4 = roc_auc_score(testGen.classes, preds, multi_class='ovr', average='weighted')\n",
        "\n",
        "\n",
        "print(\"macro - ovo ROC AUC Score: \", scr1)\n",
        "print(\"\")\n",
        "\n",
        "print(\"weighted - ovo ROC AUC Score: \", scr2)\n",
        "print(\"\")\n",
        "\n",
        "print(\"macro - ovr ROC AUC Score: \", scr3)\n",
        "print(\"\")\n",
        "\n",
        "print(\"weighted - ovr ROC AUC Score: \", scr4)\n",
        "print(\"\")"
      ]
    },
    {
      "cell_type": "code",
      "execution_count": null,
      "metadata": {
        "colab": {
          "background_save": true
        },
        "id": "Wtm8lgR7_TWc",
        "outputId": "ae08a92d-9024-42b2-a43a-634548d1974a"
      },
      "outputs": [
        {
          "name": "stdout",
          "output_type": "stream",
          "text": [
            "class 0 - A  : --AUC---> 0.5\n",
            "class 1 - F  : --AUC---> 0.5\n",
            "class 2 - PT  : --AUC---> 0.5\n",
            "class 3 - TA  : --AUC---> 0.5\n",
            "class 4 - DC  : --AUC---> 0.5\n",
            "class 5 - LC  : --AUC---> 0.5\n",
            "class 6 - MC  : --AUC---> 0.5\n",
            "class 7 - PC  : --AUC---> 0.5\n"
          ]
        },
        {
          "data": {
            "image/png": "[encoded data removed]",
            "text/plain": [
              "<Figure size 432x288 with 1 Axes>"
            ]
          },
          "metadata": {},
          "output_type": "display_data"
        }
      ],
      "source": [
        "# roc curve for classes\n",
        "fpr = {}\n",
        "tpr = {}\n",
        "thresh ={}\n",
        "\n",
        "target_names = ['A', 'F', 'PT', 'TA', 'DC','LC', 'MC', 'PC']\n",
        "n_class = 8\n",
        "\n",
        "for i in range(len(target_names)):\n",
        "    fpr[i], tpr[i], thresh[i] = roc_curve(testGen.classes, predIdxs[:], pos_label=i)\n",
        "    auroc = round(metrics.auc(fpr[i], tpr[i]),2)\n",
        "    print('class',i,'-', target_names[i],' :','--AUC--->',auroc)\n",
        "\n",
        "# plotting\n",
        "plt.plot(fpr[0], tpr[0], linestyle='--',color='orange', label='Class 0-A: vs Rest')\n",
        "plt.plot(fpr[1], tpr[1], linestyle='--',color='green', label='Class 1- F: vs Rest')\n",
        "plt.plot(fpr[2], tpr[2], linestyle='--',color='blue', label='Class 2- PT: vs Rest')\n",
        "plt.plot(fpr[3], tpr[3], linestyle='--',color='yellow', label='Class 3- TA: vs Rest')\n",
        "plt.plot(fpr[4], tpr[4], linestyle='-',color='orange', label='Class 4-DC vs Rest')\n",
        "plt.plot(fpr[5], tpr[5], linestyle='-',color='green', label='Class 5-LC: vs Rest')\n",
        "plt.plot(fpr[6], tpr[6], linestyle='-',color='blue', label='Class 6-MC: vs Rest')\n",
        "plt.plot(fpr[7], tpr[7], linestyle='-',color='yellow', label='Class 7- LC: vs Rest')\n",
        "\n",
        "\n",
        "plt.title('Multiclass ROC-AUC curve')\n",
        "plt.xlabel('False Positive Rate')\n",
        "plt.ylabel('True Positive rate')\n",
        "plt.legend(loc='best')\n",
        "plt.savefig('Multilass ROC',dpi=300, bbox_inches='tight',   pad_inches = 0);\n",
        "\n",
        "\n",
        "plt.show()"
      ]
    },
    {
      "cell_type": "code",
      "execution_count": null,
      "metadata": {
        "colab": {
          "background_save": true
        },
        "id": "qw8odiT8_TWc",
        "outputId": "5ddfb5c6-21ee-4bc8-8ffc-b41df1a7cbf8"
      },
      "outputs": [
        {
          "name": "stdout",
          "output_type": "stream",
          "text": [
            "0.07036247334754797\n"
          ]
        }
      ],
      "source": [
        "import sklearn\n",
        "acc = sklearn.metrics.accuracy_score(testGen.classes, predIdxs)\n",
        "print(acc)"
      ]
    }
  ],
  "metadata": {
    "colab": {
      "collapsed_sections": [
        "0pV-1OClVOLS"
      ],
      "provenance": []
    },
    "kernelspec": {
      "display_name": "Python 3",
      "name": "python3"
    },
    "language_info": {
      "name": "python"
    }
  },
  "nbformat": 4,
  "nbformat_minor": 0
}